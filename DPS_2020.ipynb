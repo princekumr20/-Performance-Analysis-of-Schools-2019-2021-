{
  "nbformat": 4,
  "nbformat_minor": 0,
  "metadata": {
    "colab": {
      "provenance": []
    },
    "kernelspec": {
      "name": "python3",
      "display_name": "Python 3"
    },
    "language_info": {
      "name": "python"
    }
  },
  "cells": [
    {
      "cell_type": "code",
      "source": [
        "import pandas as pd\n",
        "\n",
        "# Sample data as a dictionary\n",
        "data_dict = {\n",
        "    'Student Roll': [3001, 3002, 3003, 3004, 3005, 3006, 3007, 3008, 3009, 3010, 3011, 3012, 3013, 3014, 3015, 3016, 3017, 3018, 3019, 3020],\n",
        "    'Student Name': ['Anshu Pathak', 'Kishor Biyani', 'Munjal Shah', 'Anil Bhanupriya', 'Besent Kumar', 'Diana', 'Raghu Govind', 'Manyathi Shetty', 'Suman Bhattacharya', 'Devanshu Mishra', 'Karan Thapa', 'Farhan Ali', 'Ashwini Pushpa', 'Michel Dsuza', 'Nagashruthi', 'Chandrsekhar Kudwa', 'Niharika Popat', 'Jivan Rao', 'Muhul Ghade', 'Manshukh Bhayani'],\n",
        "    'Hindi': [55, 80, 34, 23, 75, 51, 64, 36, 55, 68, 43, 47, 72, 64, 88, 44, 27, 37, 41, 25],\n",
        "    'English': [64, 40, 49, 62, 86, 25, 82, 88, 37, 39, 26, 52, 78, 73, 75, 75, 60, 45, 59, 30],\n",
        "    'Mathematics': [62, 52, 27, 63, 56, 55, 32, 72, 86, 47, 24, 75, 72, 42, 60, 25, 67, 31, 72, 34],\n",
        "    'Physics': [29, 53, 59, 60, 23, 48, 48, 31, 88, 87, 23, 38, 44, 71, 31, 25, 69, 72, 83, 35],\n",
        "    'Chemistry': [81, 55, 76, 52, 58, 39, 39, 35, 48, 71, 61, 33, 84, 86, 39, 66, 53, 70, 62, 79],\n",
        "    'Biology': [49, 56, 42, 37, 48, 81, 25, 56, 43, 38, 79, 28, 32, 72, 84, 69, 69, 84, 23, 35],\n",
        "    'History': [81, 77, 25, 38, 31, 56, 50, 32, 28, 27, 79, 46, 77, 39, 82, 43, 72, 34, 86, 63],\n",
        "    'Geography': [87, 80, 46, 41, 65, 88, 48, 77, 35, 41, 66, 69, 74, 58, 74, 38, 76, 66, 61, 82],\n",
        "    'Civics': [50, 81, 59, 88, 64, 63, 25, 42, 27, 26, 33, 55, 37, 33, 88, 53, 86, 49, 84, 76],\n",
        "    'Computer Science': [48, 28, 48, 38, 58, 81, 36, 87, 47, 71, 84, 62, 54, 39, 71, 79, 23, 63, 24, 54],\n",
        "    'Physical Education': [51, 51, 81, 70, 47, 63, 59, 82, 45, 63, 30, 25, 25, 37, 81, 65, 54, 70, 60, 31]\n",
        "}\n",
        "\n",
        "# Create a DataFrame from the dictionary\n",
        "data = pd.DataFrame(data_dict)\n",
        "\n",
        "# Define the function to categorize marks\n",
        "def categorize_marks(marks):\n",
        "    if marks <= 20:\n",
        "        return 'Very Poor'\n",
        "    elif 20 < marks <= 40:\n",
        "        return 'Poor'\n",
        "    elif 40 < marks <= 60:\n",
        "        return 'Average'\n",
        "    elif 60 < marks <= 80:\n",
        "        return 'Good'\n",
        "    else:\n",
        "        return 'Very Good'\n",
        "\n",
        "# Define the subjects for each stream\n",
        "arts_subjects = ['Hindi', 'English', 'History', 'Geography', 'Civics']\n",
        "science_subjects = ['Mathematics', 'Physics', 'Chemistry', 'Biology', 'Computer Science']\n",
        "commerce_subjects = ['Hindi', 'English', 'Mathematics', 'Computer Science', 'Physical Education']\n",
        "\n",
        "# Calculate average marks for each student\n",
        "data['Average Marks Arts'] = data[arts_subjects].mean(axis=1)\n",
        "data['Average Marks Science'] = data[science_subjects].mean(axis=1)\n",
        "data['Average Marks Commerce'] = data[commerce_subjects].mean(axis=1)\n",
        "\n",
        "# Determine the highest average marks for each stream\n",
        "data['Best Stream'] = data[['Average Marks Arts', 'Average Marks Science', 'Average Marks Commerce']].idxmax(axis=1)\n",
        "\n",
        "# Calculate overall average marks and categorize\n",
        "data['Overall Average Marks'] = data[['Average Marks Arts', 'Average Marks Science', 'Average Marks Commerce']].max(axis=1)\n",
        "data['Category'] = data['Overall Average Marks'].apply(categorize_marks)\n",
        "\n",
        "# Display the categorized data\n",
        "print(data[['Student Roll', 'Student Name', 'Overall Average Marks', 'Category', 'Best Stream']])\n"
      ],
      "metadata": {
        "colab": {
          "base_uri": "https://localhost:8080/"
        },
        "id": "4ywkn9vGm2fw",
        "outputId": "934bb3d4-ba6d-480c-ff66-43bb75d99879"
      },
      "execution_count": 11,
      "outputs": [
        {
          "output_type": "stream",
          "name": "stdout",
          "text": [
            "    Student Roll        Student Name  Overall Average Marks   Category  \\\n",
            "0           3001        Anshu Pathak                   67.4       Good   \n",
            "1           3002       Kishor Biyani                   71.6       Good   \n",
            "2           3003         Munjal Shah                   50.4    Average   \n",
            "3           3004     Anil Bhanupriya                   51.2    Average   \n",
            "4           3005        Besent Kumar                   64.4       Good   \n",
            "5           3006               Diana                   60.8       Good   \n",
            "6           3007        Raghu Govind                   54.6    Average   \n",
            "7           3008     Manyathi Shetty                   73.0       Good   \n",
            "8           3009  Suman Bhattacharya                   62.4       Good   \n",
            "9           3010     Devanshu Mishra                   62.8       Good   \n",
            "10          3011         Karan Thapa                   54.2    Average   \n",
            "11          3012          Farhan Ali                   53.8    Average   \n",
            "12          3013      Ashwini Pushpa                   67.6       Good   \n",
            "13          3014        Michel Dsuza                   62.0       Good   \n",
            "14          3015         Nagashruthi                   81.4  Very Good   \n",
            "15          3016  Chandrsekhar Kudwa                   57.6    Average   \n",
            "16          3017      Niharika Popat                   64.2       Good   \n",
            "17          3018           Jivan Rao                   64.0       Good   \n",
            "18          3019         Muhul Ghade                   66.2       Good   \n",
            "19          3020    Manshukh Bhayani                   55.2    Average   \n",
            "\n",
            "               Best Stream  \n",
            "0       Average Marks Arts  \n",
            "1       Average Marks Arts  \n",
            "2    Average Marks Science  \n",
            "3   Average Marks Commerce  \n",
            "4   Average Marks Commerce  \n",
            "5    Average Marks Science  \n",
            "6   Average Marks Commerce  \n",
            "7   Average Marks Commerce  \n",
            "8    Average Marks Science  \n",
            "9    Average Marks Science  \n",
            "10   Average Marks Science  \n",
            "11      Average Marks Arts  \n",
            "12      Average Marks Arts  \n",
            "13   Average Marks Science  \n",
            "14      Average Marks Arts  \n",
            "15  Average Marks Commerce  \n",
            "16      Average Marks Arts  \n",
            "17   Average Marks Science  \n",
            "18      Average Marks Arts  \n",
            "19      Average Marks Arts  \n"
          ]
        }
      ]
    }
  ]
}