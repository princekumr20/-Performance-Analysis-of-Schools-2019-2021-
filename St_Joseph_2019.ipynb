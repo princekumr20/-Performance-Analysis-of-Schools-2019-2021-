{
  "cells": [
    {
      "cell_type": "code",
      "execution_count": 3,
      "metadata": {
        "colab": {
          "base_uri": "https://localhost:8080/"
        },
        "id": "4ywkn9vGm2fw",
        "outputId": "1fac8ff2-e8ca-4e5d-b7e1-c7ccc9f7ddda"
      },
      "outputs": [
        {
          "name": "stdout",
          "output_type": "stream",
          "text": [
            "    Student Roll     Student Name  Overall Average Marks   Category  \\\n",
            "0           2001    Ashok Chauhan                   70.2       Good   \n",
            "1           2002     Bibhor Gupta                   54.0    Average   \n",
            "2           2003   Akshay Agarwal                   63.2       Good   \n",
            "3           2004     Rahul Bansal                   60.8       Good   \n",
            "4           2005      Kriti Singh                   58.4    Average   \n",
            "5           2006   Reshma Sultana                   60.4       Good   \n",
            "6           2007   Agriya Marandi                   70.2       Good   \n",
            "7           2008   Emanuel Joseph                   53.0    Average   \n",
            "8           2009   Rituraj Khanna                   67.4       Good   \n",
            "9           2010     Sofiya Ahmed                   71.4       Good   \n",
            "10          2011    James Gabriel                   73.8       Good   \n",
            "11          2012    Ekta Banerjee                   56.4    Average   \n",
            "12          2013  Richa Gopanayak                   70.4       Good   \n",
            "13          2014    Sukriti Verma                   65.4       Good   \n",
            "14          2015     Pranav Verma                   78.0       Good   \n",
            "15          2016    Arjun Godbole                   61.4       Good   \n",
            "16          2017   Himanshu Joshi                   81.8  Very Good   \n",
            "17          2018    Simi Bhansali                   61.6       Good   \n",
            "18          2019    Krishna Priya                   65.0       Good   \n",
            "19          2020    Deep Dasgupta                   59.8    Average   \n",
            "\n",
            "               Best Stream  \n",
            "0    Average Marks Science  \n",
            "1       Average Marks Arts  \n",
            "2    Average Marks Science  \n",
            "3   Average Marks Commerce  \n",
            "4   Average Marks Commerce  \n",
            "5       Average Marks Arts  \n",
            "6   Average Marks Commerce  \n",
            "7   Average Marks Commerce  \n",
            "8    Average Marks Science  \n",
            "9       Average Marks Arts  \n",
            "10   Average Marks Science  \n",
            "11      Average Marks Arts  \n",
            "12   Average Marks Science  \n",
            "13      Average Marks Arts  \n",
            "14  Average Marks Commerce  \n",
            "15  Average Marks Commerce  \n",
            "16   Average Marks Science  \n",
            "17   Average Marks Science  \n",
            "18  Average Marks Commerce  \n",
            "19   Average Marks Science  \n"
          ]
        }
      ],
      "source": [
        "import pandas as pd\n",
        "\n",
        "# Define the dataset\n",
        "data = pd.DataFrame({\n",
        "    'Student Roll': [2001, 2002, 2003, 2004, 2005, 2006, 2007, 2008, 2009, 2010, 2011, 2012, 2013, 2014, 2015, 2016, 2017, 2018, 2019, 2020],\n",
        "    'Student Name': ['Ashok Chauhan', 'Bibhor Gupta', 'Akshay Agarwal', 'Rahul Bansal', 'Kriti Singh', 'Reshma Sultana', 'Agriya Marandi', 'Emanuel Joseph', 'Rituraj Khanna', 'Sofiya Ahmed', 'James Gabriel', 'Ekta Banerjee', 'Richa Gopanayak', 'Sukriti Verma', 'Pranav Verma', 'Arjun Godbole', 'Himanshu Joshi', 'Simi Bhansali', 'Krishna Priya', 'Deep Dasgupta'],\n",
        "    'Hindi': [67, 82, 71, 71, 40, 33, 69, 46, 83, 85, 50, 30, 29, 35, 91, 87, 34, 29, 98, 52],\n",
        "    'English': [33, 43, 52, 58, 55, 94, 48, 46, 59, 76, 48, 90, 38, 76, 50, 53, 35, 52, 56, 30],\n",
        "    'Mathematics': [47, 27, 92, 35, 40, 50, 92, 25, 43, 72, 62, 45, 34, 39, 92, 33, 70, 53, 54, 58],\n",
        "    'Physics': [96, 98, 86, 54, 35, 30, 55, 39, 88, 85, 69, 52, 92, 29, 31, 74, 94, 26, 82, 66],\n",
        "    'Chemistry': [80, 33, 43, 97, 60, 79, 57, 39, 52, 59, 80, 87, 93, 54, 79, 60, 88, 82, 66, 47],\n",
        "    'Biology': [86, 64, 64, 38, 28, 60, 63, 54, 60, 92, 67, 41, 95, 70, 52, 50, 65, 60, 58, 73],\n",
        "    'History': [89, 53, 33, 37, 61, 49, 81, 51, 66, 84, 92, 43, 95, 69, 59, 56, 86, 88, 63, 49],\n",
        "    'Geography': [33, 27, 35, 46, 78, 91, 52, 30, 27, 73, 95, 86, 27, 88, 43, 51, 56, 56, 51, 43],\n",
        "    'Civics': [55, 65, 41, 36, 31, 35, 52, 75, 43, 39, 52, 33, 81, 59, 74, 59, 27, 44, 52, 96],\n",
        "    'Computer Science': [42, 26, 31, 42, 85, 33, 54, 68, 94, 41, 91, 44, 38, 76, 78, 66, 92, 87, 61, 55],\n",
        "    'Physical Education': [58, 62, 48, 98, 72, 49, 88, 80, 27, 45, 62, 62, 69, 97, 79, 68, 96, 79, 56, 85]\n",
        "})\n",
        "\n",
        "# Define the function to categorize marks\n",
        "def categorize_marks(marks):\n",
        "    if marks <= 20:\n",
        "        return 'Very Poor'\n",
        "    elif 20 < marks <= 40:\n",
        "        return 'Poor'\n",
        "    elif 40 < marks <= 60:\n",
        "        return 'Average'\n",
        "    elif 60 < marks <= 80:\n",
        "        return 'Good'\n",
        "    else:\n",
        "        return 'Very Good'\n",
        "\n",
        "# Define the subjects for each stream\n",
        "arts_subjects = ['Hindi', 'English', 'History', 'Geography', 'Civics']\n",
        "science_subjects = ['Mathematics', 'Physics', 'Chemistry', 'Biology', 'Computer Science']\n",
        "commerce_subjects = ['Hindi', 'English', 'Mathematics', 'Computer Science', 'Physical Education']\n",
        "\n",
        "# Calculate average marks for each student\n",
        "data['Average Marks Arts'] = data[arts_subjects].mean(axis=1)\n",
        "data['Average Marks Science'] = data[science_subjects].mean(axis=1)\n",
        "data['Average Marks Commerce'] = data[commerce_subjects].mean(axis=1)\n",
        "\n",
        "# Determine the highest average marks for each stream\n",
        "data['Best Stream'] = data[['Average Marks Arts', 'Average Marks Science', 'Average Marks Commerce']].idxmax(axis=1)\n",
        "\n",
        "# Calculate overall average marks and categorize\n",
        "data['Overall Average Marks'] = data[a'Average Marks Arts', 'Average Marks Science', 'Average Marks Commerce']].max(axis=1)\n",
        "data['Category'] = data['Overall Average Marks'].apply(categorize_marks)\n",
        "\n",
        "# Display the categorized data\n",
        "print(data[['Student Roll', 'Student Name', 'Overall Average Marks', 'Category', 'Best Stream']])\n"
      ]
    }
  ],
  "metadata": {
    "colab": {
      "provenance": []
    },
    "kernelspec": {
      "display_name": "Python 3",
      "name": "python3"
    },
    "language_info": {
      "name": "python"
    }
  },
  "nbformat": 4,
  "nbformat_minor": 0
}
