{
  "nbformat": 4,
  "nbformat_minor": 0,
  "metadata": {
    "colab": {
      "provenance": []
    },
    "kernelspec": {
      "name": "python3",
      "display_name": "Python 3"
    },
    "language_info": {
      "name": "python"
    }
  },
  "cells": [
    {
      "cell_type": "code",
      "source": [
        "import pandas as pd\n",
        "\n",
        "# Define the function to categorize marks\n",
        "def categorize_marks(marks):\n",
        "    if marks <= 20:\n",
        "        return 'Very Poor'\n",
        "    elif 20 < marks <= 40:\n",
        "        return 'Poor'\n",
        "    elif 40 < marks <= 60:\n",
        "        return 'Average'\n",
        "    elif 60 < marks <= 80:\n",
        "        return 'Good'\n",
        "    else:\n",
        "        return 'Very Good'\n",
        "\n",
        "# Define the subjects for each stream\n",
        "arts_subjects = ['Hindi', 'English', 'History', 'Geography', 'Civics']\n",
        "science_subjects = ['Mathematics', 'Physics', 'Chemistry', 'Biology', 'Computer Science']\n",
        "commerce_subjects = ['Hindi', 'English', 'Mathematics', 'Computer Science', 'Physical Education']\n",
        "\n",
        "# Define the data\n",
        "data = pd.DataFrame({\n",
        "    'Student Roll': [4001, 4002, 4003, 4004, 4005, 4006, 4007, 4008, 4009, 4010, 4011, 4012, 4013, 4014, 4015, 4016, 4017, 4018, 4019, 4020],\n",
        "    'Student Name': ['Md. Irfan', 'Swati Shankar', 'Mashuk Khan', 'Jaspreet Kaur', 'Ismail Ahmed', 'Atanu Sanyal', 'Monica Bharti', 'Bipul Bindal', 'Chanchal Panidhar', 'Hashmukh Patel', 'Ridhima Shetty', 'Anukul Seth', 'Jyoti Sridharan', 'Afsana Anjum', 'Sunaina Prabhu', 'Jemeira Sami', 'Derek Pinto', 'Sameera Gowda', 'Nitin Deewan', 'Sayantan Ghosh'],\n",
        "    'Hindi': [50, 42, 76, 59, 50, 50, 76, 95, 49, 74, 72, 89, 78, 93, 71, 97, 84, 46, 53, 79],\n",
        "    'English': [88, 45, 75, 41, 65, 75, 97, 53, 57, 54, 41, 49, 72, 63, 42, 72, 68, 61, 43, 91],\n",
        "    'Mathematics': [40, 33, 64, 51, 51, 60, 35, 60, 38, 74, 70, 55, 22, 46, 50, 81, 37, 75, 65, 69],\n",
        "    'Physics': [43, 69, 33, 48, 37, 58, 29, 89, 52, 90, 90, 58, 43, 55, 93, 38, 30, 73, 36, 34],\n",
        "    'Chemistry': [78, 86, 63, 39, 38, 38, 79, 86, 89, 93, 28, 94, 64, 92, 75, 28, 79, 75, 56, 57],\n",
        "    'Biology': [85, 82, 82, 27, 82, 29, 59, 57, 56, 72, 94, 43, 25, 22, 41, 75, 88, 76, 20, 46],\n",
        "    'History': [74, 46, 70, 80, 58, 61, 74, 86, 51, 59, 58, 55, 55, 57, 69, 64, 73, 70, 46, 81],\n",
        "    'Geography': [94, 82, 84, 81, 75, 57, 87, 65, 55, 50, 40, 43, 61, 76, 56, 40, 92, 91, 98, 72],\n",
        "    'Civics': [53, 86, 65, 77, 63, 76, 86, 48, 72, 79, 87, 55, 94, 97, 72, 45, 67, 82, 66, 65],\n",
        "    'Computer Science': [24, 24, 63, 50, 83, 55, 27, 51, 89, 70, 32, 64, 81, 37, 84, 46, 58, 48, 25, 68],\n",
        "    'Physical Education': [63, 63, 87, 93, 76, 41, 64, 83, 71, 74, 98, 87, 66, 90, 49, 47, 73, 74, 50, 54]\n",
        "})\n",
        "\n",
        "# Calculate average marks for each student\n",
        "data['Average Marks Arts'] = data[arts_subjects].mean(axis=1)\n",
        "data['Average Marks Science'] = data[science_subjects].mean(axis=1)\n",
        "data['Average Marks Commerce'] = data[commerce_subjects].mean(axis=1)\n",
        "\n",
        "# Determine the best stream\n",
        "data['Best Stream'] = data[['Average Marks Arts', 'Average Marks Science', 'Average Marks Commerce']].idxmax(axis=1)\n",
        "\n",
        "# Calculate overall average marks and categorize\n",
        "data['Overall Average Marks'] = data[['Average Marks Arts', 'Average Marks Science', 'Average Marks Commerce']].max(axis=1)\n",
        "data['Category'] = data['Overall Average Marks'].apply(categorize_marks)\n",
        "\n",
        "# Display the categorized data\n",
        "print(data[['Student Roll', 'Student Name', 'Overall Average Marks', 'Category', 'Best Stream']])\n"
      ],
      "metadata": {
        "colab": {
          "base_uri": "https://localhost:8080/"
        },
        "id": "4ywkn9vGm2fw",
        "outputId": "ab03def4-bb8e-469c-bfbc-146a1e55f8f9"
      },
      "execution_count": 7,
      "outputs": [
        {
          "output_type": "stream",
          "name": "stdout",
          "text": [
            "    Student Roll       Student Name  Overall Average Marks   Category  \\\n",
            "0           4001          Md. Irfan                   71.8       Good   \n",
            "1           4002      Swati Shankar                   60.2       Good   \n",
            "2           4003        Mashuk Khan                   74.0       Good   \n",
            "3           4004      Jaspreet Kaur                   67.6       Good   \n",
            "4           4005       Ismail Ahmed                   65.0       Good   \n",
            "5           4006       Atanu Sanyal                   63.8       Good   \n",
            "6           4007      Monica Bharti                   84.0  Very Good   \n",
            "7           4008       Bipul Bindal                   69.4       Good   \n",
            "8           4009  Chanchal Panidhar                   64.8       Good   \n",
            "9           4010     Hashmukh Patel                   79.8       Good   \n",
            "10          4011     Ridhima Shetty                   62.8       Good   \n",
            "11          4012        Anukul Seth                   68.8       Good   \n",
            "12          4013    Jyoti Sridharan                   72.0       Good   \n",
            "13          4014       Afsana Anjum                   77.2       Good   \n",
            "14          4015     Sunaina Prabhu                   68.6       Good   \n",
            "15          4016       Jemeira Sami                   68.6       Good   \n",
            "16          4017        Derek Pinto                   76.8       Good   \n",
            "17          4018      Sameera Gowda                   70.0       Good   \n",
            "18          4019       Nitin Deewan                   61.2       Good   \n",
            "19          4020     Sayantan Ghosh                   77.6       Good   \n",
            "\n",
            "               Best Stream  \n",
            "0       Average Marks Arts  \n",
            "1       Average Marks Arts  \n",
            "2       Average Marks Arts  \n",
            "3       Average Marks Arts  \n",
            "4   Average Marks Commerce  \n",
            "5       Average Marks Arts  \n",
            "6       Average Marks Arts  \n",
            "7       Average Marks Arts  \n",
            "8    Average Marks Science  \n",
            "9    Average Marks Science  \n",
            "10   Average Marks Science  \n",
            "11  Average Marks Commerce  \n",
            "12      Average Marks Arts  \n",
            "13      Average Marks Arts  \n",
            "14   Average Marks Science  \n",
            "15  Average Marks Commerce  \n",
            "16      Average Marks Arts  \n",
            "17      Average Marks Arts  \n",
            "18      Average Marks Arts  \n",
            "19      Average Marks Arts  \n"
          ]
        }
      ]
    }
  ]
}