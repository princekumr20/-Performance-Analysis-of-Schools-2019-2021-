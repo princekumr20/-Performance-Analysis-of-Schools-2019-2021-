{
  "nbformat": 4,
  "nbformat_minor": 0,
  "metadata": {
    "colab": {
      "provenance": []
    },
    "kernelspec": {
      "name": "python3",
      "display_name": "Python 3"
    },
    "language_info": {
      "name": "python"
    }
  },
  "cells": [
    {
      "cell_type": "code",
      "source": [
        "import pandas as pd\n",
        "\n",
        "# Define the function to categorize marks\n",
        "def categorize_marks(marks):\n",
        "    if marks <= 20:\n",
        "        return 'Very Poor'\n",
        "    elif 20 < marks <= 40:\n",
        "        return 'Poor'\n",
        "    elif 40 < marks <= 60:\n",
        "        return 'Average'\n",
        "    elif 60 < marks <= 80:\n",
        "        return 'Good'\n",
        "    else:\n",
        "        return 'Very Good'\n",
        "\n",
        "# Load the data into a DataFrame\n",
        "data = pd.DataFrame({\n",
        "    'Student Roll': [5001, 5002, 5003, 5004, 5005, 5006, 5007, 5008, 5009, 5010, 5011, 5012, 5013, 5014, 5015, 5016, 5017, 5018, 5019, 5020],\n",
        "    'Student Name': ['Swetashi Aiyyar', 'Mira Rajput', 'Deepali Sanyal', 'Ayansh Mukherjee', 'Mihika Kalra', 'James Fernandes', 'Andrew Peter', 'Atin Choudhari', 'Kalyan Krupanidhi', 'Raga Lalitha', 'Somesh Jha', 'Jashwant Bhide', 'Suyash Chaturvedi', 'Nirmala', 'Yatindra Sharma', 'Shivalik Gonda', 'Mitushi Ghosh', 'Nayan Mahadevan', 'Rishi Damul', 'Kumar Amar'],\n",
        "    'Hindi': [86, 21, 67, 85, 68, 69, 55, 81, 74, 73, 51, 40, 37, 68, 37, 84, 50, 78, 71, 61],\n",
        "    'English': [64, 33, 61, 21, 59, 64, 72, 76, 48, 31, 76, 78, 27, 89, 48, 90, 77, 81, 63, 68],\n",
        "    'Mathematics': [77, 69, 50, 86, 47, 85, 76, 68, 71, 64, 67, 62, 79, 74, 75, 90, 41, 83, 72, 99],\n",
        "    'Physics': [69, 88, 59, 47, 60, 51, 68, 47, 82, 71, 58, 97, 87, 68, 58, 96, 73, 86, 87, 80],\n",
        "    'Chemistry': [70, 92, 92, 66, 66, 86, 65, 48, 62, 41, 51, 86, 78, 99, 70, 67, 40, 43, 49, 74],\n",
        "    'Biology': [64, 76, 76, 75, 86, 88, 96, 75, 95, 85, 91, 93, 51, 68, 88, 93, 67, 71, 80, 59],\n",
        "    'History': [20, 33, 78, 61, 35, 74, 58, 29, 58, 32, 32, 72, 26, 37, 47, 22, 59, 59, 70, 36],\n",
        "    'Geography': [59, 56, 89, 45, 84, 22, 52, 61, 75, 63, 71, 32, 47, 64, 58, 56, 40, 76, 28, 71],\n",
        "    'Civics': [73, 42, 23, 37, 31, 56, 46, 83, 32, 34, 79, 26, 20, 45, 21, 46, 29, 44, 81, 24],\n",
        "    'Computer Science': [53, 97, 70, 75, 69, 79, 64, 53, 79, 61, 70, 60, 74, 80, 46, 56, 98, 88, 99, 85],\n",
        "    'Physical Education': [64, 52, 23, 76, 38, 58, 86, 51, 76, 59, 61, 84, 85, 24, 89, 46, 42, 32, 39, 85]\n",
        "})\n",
        "\n",
        "# Define the subjects for each stream\n",
        "arts_subjects = ['Hindi', 'English', 'History', 'Geography', 'Civics']\n",
        "science_subjects = ['Mathematics', 'Physics', 'Chemistry', 'Biology', 'Computer Science']\n",
        "commerce_subjects = ['Hindi', 'English', 'Mathematics', 'Computer Science', 'Physical Education']\n",
        "\n",
        "# Calculate average marks for each student\n",
        "data['Average Marks Arts'] = data[arts_subjects].mean(axis=1)\n",
        "data['Average Marks Science'] = data[science_subjects].mean(axis=1)\n",
        "data['Average Marks Commerce'] = data[commerce_subjects].mean(axis=1)\n",
        "\n",
        "# Determine the highest average marks for each stream\n",
        "data['Best Stream'] = data[['Average Marks Arts', 'Average Marks Science', 'Average Marks Commerce']].idxmax(axis=1)\n",
        "\n",
        "# Calculate overall average marks and categorize\n",
        "data['Overall Average Marks'] = data[['Average Marks Arts', 'Average Marks Science', 'Average Marks Commerce']].max(axis=1)\n",
        "data['Category'] = data['Overall Average Marks'].apply(categorize_marks)\n",
        "\n",
        "# Display the categorized data\n",
        "print(data[['Student Roll', 'Student Name', 'Overall Average Marks', 'Category', 'Best Stream']])\n"
      ],
      "metadata": {
        "colab": {
          "base_uri": "https://localhost:8080/"
        },
        "id": "4ywkn9vGm2fw",
        "outputId": "b59817ab-f593-45b0-cb1c-9a7a096749a4"
      },
      "execution_count": 8,
      "outputs": [
        {
          "output_type": "stream",
          "name": "stdout",
          "text": [
            "    Student Roll       Student Name  Overall Average Marks   Category  \\\n",
            "0           5001    Swetashi Aiyyar                   68.8       Good   \n",
            "1           5002        Mira Rajput                   84.4  Very Good   \n",
            "2           5003     Deepali Sanyal                   69.4       Good   \n",
            "3           5004   Ayansh Mukherjee                   69.8       Good   \n",
            "4           5005       Mihika Kalra                   65.6       Good   \n",
            "5           5006    James Fernandes                   77.8       Good   \n",
            "6           5007       Andrew Peter                   73.8       Good   \n",
            "7           5008     Atin Choudhari                   66.0       Good   \n",
            "8           5009  Kalyan Krupanidhi                   77.8       Good   \n",
            "9           5010       Raga Lalitha                   64.4       Good   \n",
            "10          5011         Somesh Jha                   67.4       Good   \n",
            "11          5012     Jashwant Bhide                   79.6       Good   \n",
            "12          5013  Suyash Chaturvedi                   73.8       Good   \n",
            "13          5014            Nirmala                   77.8       Good   \n",
            "14          5015    Yatindra Sharma                   67.4       Good   \n",
            "15          5016     Shivalik Gonda                   80.4  Very Good   \n",
            "16          5017      Mitushi Ghosh                   63.8       Good   \n",
            "17          5018    Nayan Mahadevan                   74.2       Good   \n",
            "18          5019        Rishi Damul                   77.4       Good   \n",
            "19          5020         Kumar Amar                   79.6       Good   \n",
            "\n",
            "               Best Stream  \n",
            "0   Average Marks Commerce  \n",
            "1    Average Marks Science  \n",
            "2    Average Marks Science  \n",
            "3    Average Marks Science  \n",
            "4    Average Marks Science  \n",
            "5    Average Marks Science  \n",
            "6    Average Marks Science  \n",
            "7       Average Marks Arts  \n",
            "8    Average Marks Science  \n",
            "9    Average Marks Science  \n",
            "10   Average Marks Science  \n",
            "11   Average Marks Science  \n",
            "12   Average Marks Science  \n",
            "13   Average Marks Science  \n",
            "14   Average Marks Science  \n",
            "15   Average Marks Science  \n",
            "16   Average Marks Science  \n",
            "17   Average Marks Science  \n",
            "18   Average Marks Science  \n",
            "19  Average Marks Commerce  \n"
          ]
        }
      ]
    }
  ]
}