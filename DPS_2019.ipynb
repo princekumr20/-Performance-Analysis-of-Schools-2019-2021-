{
  "nbformat": 4,
  "nbformat_minor": 0,
  "metadata": {
    "colab": {
      "provenance": []
    },
    "kernelspec": {
      "name": "python3",
      "display_name": "Python 3"
    },
    "language_info": {
      "name": "python"
    }
  },
  "cells": [
    {
      "cell_type": "code",
      "source": [
        "import pandas as pd\n",
        "\n",
        "# Define the function to categorize marks\n",
        "def categorize_marks(marks):\n",
        "    if marks <= 20:\n",
        "        return 'Very Poor'\n",
        "    elif 20 < marks <= 40:\n",
        "        return 'Poor'\n",
        "    elif 40 < marks <= 60:\n",
        "        return 'Average'\n",
        "    elif 60 < marks <= 80:\n",
        "        return 'Good'\n",
        "    else:\n",
        "        return 'Very Good'\n",
        "\n",
        "# Define the subjects for each stream\n",
        "arts_subjects = ['Hindi', 'English', 'History', 'Geography', 'Civics']\n",
        "science_subjects = ['Mathematics', 'Physics', 'Chemistry', 'Biology', 'Computer Science']\n",
        "commerce_subjects = ['Hindi', 'English', 'Mathematics', 'Computer Science', 'Physical Education']\n",
        "\n",
        "# Create a DataFrame with the provided data\n",
        "data = pd.DataFrame({\n",
        "    'Student Roll': [3001, 3002, 3003, 3004, 3005, 3006, 3007, 3008, 3009, 3010, 3011, 3012, 3013, 3014, 3015, 3016, 3017, 3018, 3019, 3020],\n",
        "    'Student Name': ['Anshu Pathak', 'Kishor Biyani', 'Munjal Shah', 'Anil Bhanupriya', 'Besent Kumar', 'Diana', 'Raghu Govind', 'Manyathi Shetty', 'Suman Bhattacharya', 'Devanshu Mishra', 'Karan Thapa', 'Farhan Ali', 'Ashwini Pushpa', 'Michel Dsuza', 'Nagashruthi', 'Chandrsekhar Kudwa', 'Niharika Popat', 'Jivan Rao', 'Muhul Ghade', 'Manshukh Bhayani'],\n",
        "    'Hindi': [67, 89, 78, 76, 27, 61, 26, 49, 45, 20, 62, 72, 59, 42, 91, 80, 82, 47, 75, 58],\n",
        "    'English': [89, 48, 45, 59, 21, 83, 81, 37, 80, 76, 74, 72, 74, 42, 92, 49, 21, 48, 68, 47],\n",
        "    'Mathematics': [55, 79, 76, 21, 91, 20, 25, 20, 75, 46, 46, 60, 73, 39, 87, 34, 86, 95, 93, 46],\n",
        "    'Physics': [94, 32, 84, 87, 64, 40, 39, 71, 75, 23, 89, 21, 41, 48, 80, 55, 48, 60, 20, 93],\n",
        "    'Chemistry': [46, 60, 37, 69, 56, 83, 86, 71, 61, 47, 75, 71, 23, 64, 26, 57, 74, 43, 24, 21],\n",
        "    'Biology': [34, 66, 86, 88, 51, 42, 30, 41, 92, 63, 60, 32, 79, 20, 31, 43, 63, 69, 42, 89],\n",
        "    'History': [44, 62, 63, 37, 76, 78, 79, 45, 48, 43, 88, 87, 86, 63, 74, 54, 77, 75, 81, 77],\n",
        "    'Geography': [24, 52, 22, 43, 82, 58, 94, 80, 74, 75, 55, 86, 85, 88, 90, 85, 94, 43, 92, 54],\n",
        "    'Civics': [86, 95, 63, 76, 25, 57, 84, 64, 31, 32, 93, 73, 88, 28, 66, 58, 46, 31, 58, 26],\n",
        "    'Computer Science': [32, 73, 52, 88, 49, 28, 70, 83, 75, 69, 70, 79, 85, 58, 63, 93, 79, 94, 36, 77],\n",
        "    'Physical Education': [52, 73, 69, 74, 69, 87, 87, 60, 48, 20, 49, 62, 34, 61, 35, 44, 34, 87, 55, 95]\n",
        "})\n",
        "\n",
        "# Calculate average marks for each stream\n",
        "data['Average Marks Arts'] = data[arts_subjects].mean(axis=1)\n",
        "data['Average Marks Science'] = data[science_subjects].mean(axis=1)\n",
        "data['Average Marks Commerce'] = data[commerce_subjects].mean(axis=1)\n",
        "\n",
        "# Determine the highest average marks for each stream\n",
        "data['Best Stream'] = data[['Average Marks Arts', 'Average Marks Science', 'Average Marks Commerce']].idxmax(axis=1)\n",
        "\n",
        "# Calculate overall average marks and categorize\n",
        "data['Overall Average Marks'] = data[['Average Marks Arts', 'Average Marks Science', 'Average Marks Commerce']].max(axis=1)\n",
        "data['Category'] = data['Overall Average Marks'].apply(categorize_marks)\n",
        "\n",
        "# Display the categorized data\n",
        "print(data[['Student Roll', 'Student Name', 'Overall Average Marks', 'Category', 'Best Stream']])\n"
      ],
      "metadata": {
        "colab": {
          "base_uri": "https://localhost:8080/"
        },
        "id": "4ywkn9vGm2fw",
        "outputId": "a85cb87f-f30b-4238-e146-6393f6d0d928"
      },
      "execution_count": 4,
      "outputs": [
        {
          "output_type": "stream",
          "name": "stdout",
          "text": [
            "    Student Roll        Student Name  Overall Average Marks   Category  \\\n",
            "0           3001        Anshu Pathak                   62.0       Good   \n",
            "1           3002       Kishor Biyani                   72.4       Good   \n",
            "2           3003         Munjal Shah                   67.0       Good   \n",
            "3           3004     Anil Bhanupriya                   70.6       Good   \n",
            "4           3005        Besent Kumar                   62.2       Good   \n",
            "5           3006               Diana                   67.4       Good   \n",
            "6           3007        Raghu Govind                   72.8       Good   \n",
            "7           3008     Manyathi Shetty                   57.2    Average   \n",
            "8           3009  Suman Bhattacharya                   75.6       Good   \n",
            "9           3010     Devanshu Mishra                   49.6    Average   \n",
            "10          3011         Karan Thapa                   74.4       Good   \n",
            "11          3012          Farhan Ali                   78.0       Good   \n",
            "12          3013      Ashwini Pushpa                   78.4       Good   \n",
            "13          3014        Michel Dsuza                   52.6    Average   \n",
            "14          3015         Nagashruthi                   82.6  Very Good   \n",
            "15          3016  Chandrsekhar Kudwa                   65.2       Good   \n",
            "16          3017      Niharika Popat                   70.0       Good   \n",
            "17          3018           Jivan Rao                   74.2       Good   \n",
            "18          3019         Muhul Ghade                   74.8       Good   \n",
            "19          3020    Manshukh Bhayani                   65.2       Good   \n",
            "\n",
            "               Best Stream  \n",
            "0       Average Marks Arts  \n",
            "1   Average Marks Commerce  \n",
            "2    Average Marks Science  \n",
            "3    Average Marks Science  \n",
            "4    Average Marks Science  \n",
            "5       Average Marks Arts  \n",
            "6       Average Marks Arts  \n",
            "7    Average Marks Science  \n",
            "8    Average Marks Science  \n",
            "9    Average Marks Science  \n",
            "10      Average Marks Arts  \n",
            "11      Average Marks Arts  \n",
            "12      Average Marks Arts  \n",
            "13      Average Marks Arts  \n",
            "14      Average Marks Arts  \n",
            "15      Average Marks Arts  \n",
            "16   Average Marks Science  \n",
            "17  Average Marks Commerce  \n",
            "18      Average Marks Arts  \n",
            "19   Average Marks Science  \n"
          ]
        }
      ]
    }
  ]
}