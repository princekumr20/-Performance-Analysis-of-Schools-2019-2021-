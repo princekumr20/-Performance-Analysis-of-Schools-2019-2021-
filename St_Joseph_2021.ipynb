{
  "nbformat": 4,
  "nbformat_minor": 0,
  "metadata": {
    "colab": {
      "provenance": []
    },
    "kernelspec": {
      "name": "python3",
      "display_name": "Python 3"
    },
    "language_info": {
      "name": "python"
    }
  },
  "cells": [
    {
      "cell_type": "code",
      "source": [
        "import pandas as pd\n",
        "\n",
        "# Sample data\n",
        "data = pd.DataFrame({\n",
        "    'Student Roll': [2001, 2002, 2003, 2004, 2005, 2006, 2007, 2008, 2009, 2010, 2011, 2012, 2013, 2014, 2015, 2016, 2017, 2018, 2019, 2020],\n",
        "    'Student Name': ['Ashok Chauhan', 'Bibhor Gupta', 'Akshay Agarwal', 'Rahul Bansal', 'Kriti Singh', 'Reshma Sultana', 'Agriya Marandi', 'Emanuel Joseph', 'Rituraj Khanna', 'Sofiya Ahmed', 'James Gabriel', 'Ekta Banerjee', 'Richa Gopanayak', 'Sukriti Verma', 'Pranav Verma', 'Arjun Godbole', 'Himanshu Joshi', 'Simi Bhansali', 'Krishna Priya', 'Deep Dasgupta'],\n",
        "    'Hindi': [32, 53, 49, 82, 47, 60, 34, 44, 70, 23, 69, 33, 67, 61, 36, 75, 30, 29, 57, 38],\n",
        "    'English': [63, 91, 71, 73, 41, 62, 86, 23, 45, 76, 71, 73, 23, 91, 65, 23, 65, 79, 76, 36],\n",
        "    'Mathematics': [84, 65, 80, 23, 58, 61, 36, 44, 51, 37, 44, 40, 42, 39, 72, 63, 44, 35, 58, 23],\n",
        "    'Physics': [67, 79, 62, 53, 30, 25, 48, 67, 30, 58, 41, 88, 77, 29, 85, 60, 20, 84, 84, 20],\n",
        "    'Chemistry': [89, 23, 47, 70, 38, 87, 40, 31, 41, 84, 58, 73, 34, 59, 68, 47, 25, 29, 61, 39],\n",
        "    'Biology': [43, 55, 89, 46, 72, 49, 63, 39, 42, 83, 83, 23, 89, 45, 25, 25, 68, 83, 77, 76],\n",
        "    'History': [41, 63, 20, 88, 49, 22, 81, 37, 69, 59, 25, 64, 37, 33, 68, 35, 42, 56, 59, 73],\n",
        "    'Geography': [35, 45, 57, 42, 83, 61, 73, 32, 86, 66, 37, 67, 77, 54, 71, 82, 46, 31, 52, 58],\n",
        "    'Civics': [48, 23, 66, 81, 86, 75, 48, 39, 21, 26, 65, 68, 90, 71, 22, 47, 75, 58, 56, 52],\n",
        "    'Computer Science': [24, 80, 42, 20, 88, 39, 55, 81, 47, 45, 40, 23, 37, 33, 39, 26, 85, 32, 75, 42],\n",
        "    'Physical Education': [23, 64, 48, 67, 86, 73, 58, 43, 75, 66, 23, 60, 63, 45, 25, 40, 73, 41, 67, 28]\n",
        "})\n",
        "\n",
        "# Define the function to categorize marks\n",
        "def categorize_marks(marks):\n",
        "    if marks <= 20:\n",
        "        return 'Very Poor'\n",
        "    elif 20 < marks <= 40:\n",
        "        return 'Poor'\n",
        "    elif 40 < marks <= 60:\n",
        "        return 'Average'\n",
        "    elif 60 < marks <= 80:\n",
        "        return 'Good'\n",
        "    else:\n",
        "        return 'Very Good'\n",
        "\n",
        "# Define the subjects for each stream\n",
        "arts_subjects = ['Hindi', 'English', 'History', 'Geography', 'Civics']\n",
        "science_subjects = ['Mathematics', 'Physics', 'Chemistry', 'Biology', 'Computer Science']\n",
        "commerce_subjects = ['Hindi', 'English', 'Mathematics', 'Computer Science', 'Physical Education']\n",
        "\n",
        "# Calculate average marks for each student\n",
        "data['Average Marks Arts'] = data[arts_subjects].mean(axis=1)\n",
        "data['Average Marks Science'] = data[science_subjects].mean(axis=1)\n",
        "data['Average Marks Commerce'] = data[commerce_subjects].mean(axis=1)\n",
        "\n",
        "# Determine the highest average marks for each stream\n",
        "data['Best Stream'] = data[['Average Marks Arts', 'Average Marks Science', 'Average Marks Commerce']].idxmax(axis=1)\n",
        "\n",
        "# Calculate overall average marks and categorize\n",
        "data['Overall Average Marks'] = data[['Average Marks Arts', 'Average Marks Science', 'Average Marks Commerce']].mean(axis=1)\n",
        "data['Category'] = data['Overall Average Marks'].apply(categorize_marks)\n",
        "\n",
        "# Display the categorized data\n",
        "print(data[['Student Roll', 'Student Name', 'Overall Average Marks', 'Category', 'Best Stream']])\n"
      ],
      "metadata": {
        "colab": {
          "base_uri": "https://localhost:8080/"
        },
        "id": "4ywkn9vGm2fw",
        "outputId": "3543418b-5591-4e1f-8ee1-369fa6e5697c"
      },
      "execution_count": 17,
      "outputs": [
        {
          "output_type": "stream",
          "name": "stdout",
          "text": [
            "    Student Roll     Student Name  Overall Average Marks Category  \\\n",
            "0           2001    Ashok Chauhan              50.133333  Average   \n",
            "1           2002     Bibhor Gupta              62.000000     Good   \n",
            "2           2003   Akshay Agarwal              58.200000  Average   \n",
            "3           2004     Rahul Bansal              56.200000  Average   \n",
            "4           2005      Kriti Singh              60.800000     Good   \n",
            "5           2006   Reshma Sultana              55.733333  Average   \n",
            "6           2007   Agriya Marandi              55.533333  Average   \n",
            "7           2008   Emanuel Joseph              44.800000  Average   \n",
            "8           2009   Rituraj Khanna              52.666667  Average   \n",
            "9           2010     Sofiya Ahmed              53.600000  Average   \n",
            "10          2011    James Gabriel              52.000000  Average   \n",
            "11          2012    Ekta Banerjee              52.066667  Average   \n",
            "12          2013  Richa Gopanayak              53.666667  Average   \n",
            "13          2014    Sukriti Verma              52.266667  Average   \n",
            "14          2015     Pranav Verma              52.533333  Average   \n",
            "15          2016    Arjun Godbole              47.333333  Average   \n",
            "16          2017   Himanshu Joshi              53.133333  Average   \n",
            "17          2018    Simi Bhansali              48.800000  Average   \n",
            "18          2019    Krishna Priya              65.866667     Good   \n",
            "19          2020    Deep Dasgupta              41.600000  Average   \n",
            "\n",
            "               Best Stream  \n",
            "0    Average Marks Science  \n",
            "1   Average Marks Commerce  \n",
            "2    Average Marks Science  \n",
            "3       Average Marks Arts  \n",
            "4   Average Marks Commerce  \n",
            "5   Average Marks Commerce  \n",
            "6       Average Marks Arts  \n",
            "7    Average Marks Science  \n",
            "8       Average Marks Arts  \n",
            "9    Average Marks Science  \n",
            "10      Average Marks Arts  \n",
            "11      Average Marks Arts  \n",
            "12      Average Marks Arts  \n",
            "13      Average Marks Arts  \n",
            "14   Average Marks Science  \n",
            "15      Average Marks Arts  \n",
            "16  Average Marks Commerce  \n",
            "17   Average Marks Science  \n",
            "18   Average Marks Science  \n",
            "19      Average Marks Arts  \n"
          ]
        }
      ]
    }
  ]
}