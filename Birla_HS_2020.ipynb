{
  "nbformat": 4,
  "nbformat_minor": 0,
  "metadata": {
    "colab": {
      "provenance": []
    },
    "kernelspec": {
      "name": "python3",
      "display_name": "Python 3"
    },
    "language_info": {
      "name": "python"
    }
  },
  "cells": [
    {
      "cell_type": "code",
      "source": [
        "import pandas as pd\n",
        "\n",
        "# Sample data\n",
        "data = pd.DataFrame({\n",
        "    'Student Roll': [4001, 4002, 4003, 4004, 4005, 4006, 4007, 4008, 4009, 4010, 4011, 4012, 4013, 4014, 4015, 4016, 4017, 4018, 4019, 4020],\n",
        "    'Student Name': ['Md. Irfan', 'Swati Shankar', 'Mashuk Khan', 'Jaspreet Kaur', 'Ismail Ahmed', 'Atanu Sanyal', 'Monica Bharti', 'Bipul Bindal', 'Chanchal Panidhar', 'Hashmukh Patel', 'Ridhima Shetty', 'Anukul Seth', 'Jyoti Sridharan', 'Afsana Anjum', 'Sunaina Prabhu', 'Jemeira Sami', 'Derek Pinto', 'Sameera Gowda', 'Nitin Deewan', 'Sayantan Ghosh'],\n",
        "    'Hindi': [71, 75, 49, 48, 78, 61, 63, 36, 84, 82, 66, 56, 67, 90, 86, 67, 43, 47, 71, 44],\n",
        "    'English': [52, 39, 87, 87, 68, 46, 89, 75, 61, 60, 62, 66, 89, 60, 45, 37, 84, 69, 61, 62],\n",
        "    'Mathematics': [50, 47, 43, 77, 80, 75, 57, 20, 73, 79, 42, 79, 75, 35, 29, 21, 78, 24, 51, 46],\n",
        "    'Physics': [75, 84, 79, 21, 66, 41, 65, 73, 46, 80, 49, 84, 28, 38, 75, 81, 64, 30, 68, 57],\n",
        "    'Chemistry': [39, 47, 69, 30, 23, 56, 41, 32, 71, 80, 55, 73, 35, 65, 60, 40, 51, 38, 85, 60],\n",
        "    'Biology': [62, 33, 38, 59, 53, 71, 23, 42, 49, 36, 63, 54, 57, 77, 50, 70, 53, 48, 85, 71],\n",
        "    'History': [55, 42, 88, 91, 63, 71, 89, 56, 89, 78, 69, 68, 49, 86, 60, 91, 45, 77, 93, 70],\n",
        "    'Geography': [73, 75, 82, 80, 43, 55, 93, 55, 72, 57, 87, 82, 64, 80, 73, 94, 58, 58, 60, 90],\n",
        "    'Civics': [78, 70, 92, 48, 57, 57, 86, 83, 88, 83, 94, 65, 87, 87, 74, 44, 71, 77, 44, 87],\n",
        "    'Computer Science': [32, 66, 69, 42, 83, 70, 80, 56, 67, 40, 22, 74, 68, 45, 85, 31, 75, 48, 85, 63],\n",
        "    'Physical Education': [83, 34, 78, 83, 42, 66, 25, 45, 21, 84, 46, 60, 22, 59, 45, 85, 51, 82, 61, 59]\n",
        "})\n",
        "\n",
        "# Define the function to categorize marks\n",
        "def categorize_marks(marks):\n",
        "    if marks <= 20:\n",
        "        return 'Very Poor'\n",
        "    elif 20 < marks <= 40:\n",
        "        return 'Poor'\n",
        "    elif 40 < marks <= 60:\n",
        "        return 'Average'\n",
        "    elif 60 < marks <= 80:\n",
        "        return 'Good'\n",
        "    else:\n",
        "        return 'Very Good'\n",
        "\n",
        "# Define the subjects for each stream\n",
        "arts_subjects = ['Hindi', 'English', 'History', 'Geography', 'Civics']\n",
        "science_subjects = ['Mathematics', 'Physics', 'Chemistry', 'Biology', 'Computer Science']\n",
        "commerce_subjects = ['Hindi', 'English', 'Mathematics', 'Computer Science', 'Physical Education']\n",
        "\n",
        "# Calculate average marks for each student\n",
        "data['Average Marks Arts'] = data[arts_subjects].mean(axis=1)\n",
        "data['Average Marks Science'] = data[science_subjects].mean(axis=1)\n",
        "data['Average Marks Commerce'] = data[commerce_subjects].mean(axis=1)\n",
        "\n",
        "# Determine the highest average marks for each stream\n",
        "data['Best Stream'] = data[['Average Marks Arts', 'Average Marks Science', 'Average Marks Commerce']].idxmax(axis=1)\n",
        "\n",
        "# Calculate overall average marks and categorize\n",
        "data['Overall Average Marks'] = data[['Average Marks Arts', 'Average Marks Science', 'Average Marks Commerce']].max(axis=1)\n",
        "data['Category'] = data['Overall Average Marks'].apply(categorize_marks)\n",
        "\n",
        "# Display the categorized data\n",
        "print(data[['Student Roll', 'Student Name', 'Overall Average Marks', 'Category', 'Best Stream']])\n"
      ],
      "metadata": {
        "colab": {
          "base_uri": "https://localhost:8080/"
        },
        "id": "4ywkn9vGm2fw",
        "outputId": "7de34279-ea98-4a90-980b-acb1e80b628f"
      },
      "execution_count": 12,
      "outputs": [
        {
          "output_type": "stream",
          "name": "stdout",
          "text": [
            "    Student Roll       Student Name  Overall Average Marks   Category  \\\n",
            "0           4001          Md. Irfan                   65.8       Good   \n",
            "1           4002      Swati Shankar                   60.2       Good   \n",
            "2           4003        Mashuk Khan                   79.6       Good   \n",
            "3           4004      Jaspreet Kaur                   70.8       Good   \n",
            "4           4005       Ismail Ahmed                   70.2       Good   \n",
            "5           4006       Atanu Sanyal                   63.6       Good   \n",
            "6           4007      Monica Bharti                   84.0  Very Good   \n",
            "7           4008       Bipul Bindal                   61.0       Good   \n",
            "8           4009  Chanchal Panidhar                   78.8       Good   \n",
            "9           4010     Hashmukh Patel                   72.0       Good   \n",
            "10          4011     Ridhima Shetty                   75.6       Good   \n",
            "11          4012        Anukul Seth                   72.8       Good   \n",
            "12          4013    Jyoti Sridharan                   71.2       Good   \n",
            "13          4014       Afsana Anjum                   80.6  Very Good   \n",
            "14          4015     Sunaina Prabhu                   67.6       Good   \n",
            "15          4016       Jemeira Sami                   66.6       Good   \n",
            "16          4017        Derek Pinto                   66.2       Good   \n",
            "17          4018      Sameera Gowda                   65.6       Good   \n",
            "18          4019       Nitin Deewan                   74.8       Good   \n",
            "19          4020     Sayantan Ghosh                   70.6       Good   \n",
            "\n",
            "               Best Stream  \n",
            "0       Average Marks Arts  \n",
            "1       Average Marks Arts  \n",
            "2       Average Marks Arts  \n",
            "3       Average Marks Arts  \n",
            "4   Average Marks Commerce  \n",
            "5   Average Marks Commerce  \n",
            "6       Average Marks Arts  \n",
            "7       Average Marks Arts  \n",
            "8       Average Marks Arts  \n",
            "9       Average Marks Arts  \n",
            "10      Average Marks Arts  \n",
            "11   Average Marks Science  \n",
            "12      Average Marks Arts  \n",
            "13      Average Marks Arts  \n",
            "14      Average Marks Arts  \n",
            "15      Average Marks Arts  \n",
            "16  Average Marks Commerce  \n",
            "17      Average Marks Arts  \n",
            "18   Average Marks Science  \n",
            "19      Average Marks Arts  \n"
          ]
        }
      ]
    }
  ]
}