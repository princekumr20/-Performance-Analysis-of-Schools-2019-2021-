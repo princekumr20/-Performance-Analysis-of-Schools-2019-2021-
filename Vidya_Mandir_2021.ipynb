{
  "nbformat": 4,
  "nbformat_minor": 0,
  "metadata": {
    "colab": {
      "provenance": []
    },
    "kernelspec": {
      "name": "python3",
      "display_name": "Python 3"
    },
    "language_info": {
      "name": "python"
    }
  },
  "cells": [
    {
      "cell_type": "code",
      "source": [
        "import pandas as pd\n",
        "\n",
        "# Define the function to categorize marks\n",
        "def categorize_marks(marks):\n",
        "    if marks <= 20:\n",
        "        return 'Very Poor'\n",
        "    elif 20 < marks <= 40:\n",
        "        return 'Poor'\n",
        "    elif 40 < marks <= 60:\n",
        "        return 'Average'\n",
        "    elif 60 < marks <= 80:\n",
        "        return 'Good'\n",
        "    else:\n",
        "        return 'Very Good'\n",
        "\n",
        "# Create the DataFrame from the provided data\n",
        "data = pd.DataFrame({\n",
        "    'Student Roll': [1001, 1002, 1003, 1004, 1005, 1006, 1007, 1008, 1009, 1010, 1011, 1012, 1013, 1014, 1015, 1016, 1017, 1018, 1019, 1020],\n",
        "    'Student Name': ['Akash Ahuja', 'Mohit Srivatsav', 'Anshika Mehra', 'Visakha Tamboli', 'Raju Deshmukh', 'Aruna Iyer', 'Ramesh Gowda', 'Anamika Kumari', 'Piyush Pande', 'Subhajeet Dutta', 'Sonal Tripathi', 'Ganesh Sekhar', 'Praddep Meena', 'Albert Pinto', 'Raheem Khan', 'Md. Yusuf', 'Rashmi Desai', 'Sanjana Venkatramana', 'Gurpreet Singh', 'Nisha Saxena'],\n",
        "    'Hindi': [55, 64, 89, 67, 68, 77, 66, 80, 99, 44, 91, 67, 91, 86, 68, 85, 91, 95, 42, 90],\n",
        "    'English': [63, 62, 64, 61, 97, 55, 55, 70, 99, 97, 68, 49, 93, 65, 47, 69, 46, 46, 72, 79],\n",
        "    'Mathematics': [93, 53, 53, 52, 62, 47, 88, 55, 61, 78, 69, 55, 81, 48, 85, 97, 61, 90, 86, 61],\n",
        "    'Physics': [66, 69, 51, 54, 78, 87, 74, 23, 29, 22, 34, 76, 84, 71, 46, 51, 69, 35, 41, 66],\n",
        "    'Chemistry': [59, 81, 80, 21, 80, 57, 43, 37, 63, 33, 88, 31, 48, 82, 66, 64, 63, 27, 35, 59],\n",
        "    'Biology': [20, 35, 52, 30, 25, 72, 38, 38, 66, 37, 60, 61, 35, 55, 57, 73, 44, 25, 80, 74],\n",
        "    'History': [84, 35, 83, 23, 71, 53, 71, 42, 69, 45, 74, 39, 57, 68, 35, 70, 22, 68, 78, 40],\n",
        "    'Geography': [61, 67, 22, 23, 74, 32, 33, 71, 83, 78, 71, 72, 59, 38, 32, 41, 26, 29, 75, 79],\n",
        "    'Civics': [55, 44, 53, 61, 74, 21, 70, 38, 32, 65, 54, 85, 42, 30, 42, 81, 67, 84, 56, 57],\n",
        "    'Computer Science': [63, 72, 94, 78, 62, 75, 95, 60, 88, 74, 87, 81, 65, 87, 69, 67, 94, 81, 44, 84],\n",
        "    'Physical Education': [80, 78, 49, 46, 50, 68, 75, 99, 59, 79, 95, 50, 50, 53, 59, 57, 70, 87, 65, 86]\n",
        "})\n",
        "\n",
        "# Define the subjects for each stream\n",
        "arts_subjects = ['Hindi', 'English', 'History', 'Geography', 'Civics']\n",
        "science_subjects = ['Mathematics', 'Physics', 'Chemistry', 'Biology', 'Computer Science']\n",
        "commerce_subjects = ['Hindi', 'English', 'Mathematics', 'Computer Science', 'Physical Education']\n",
        "\n",
        "# Calculate average marks for each student\n",
        "data['Average Marks Arts'] = data[arts_subjects].mean(axis=1)\n",
        "data['Average Marks Science'] = data[science_subjects].mean(axis=1)\n",
        "data['Average Marks Commerce'] = data[commerce_subjects].mean(axis=1)\n",
        "\n",
        "# Determine the highest average marks for each stream\n",
        "data['Best Stream'] = data[['Average Marks Arts', 'Average Marks Science', 'Average Marks Commerce']].idxmax(axis=1)\n",
        "\n",
        "# Calculate overall average marks and categorize\n",
        "data['Overall Average Marks'] = data[['Average Marks Arts', 'Average Marks Science', 'Average Marks Commerce']].max(axis=1)\n",
        "data['Category'] = data['Overall Average Marks'].apply(categorize_marks)\n",
        "\n",
        "# Display the categorized data\n",
        "print(data[['Student Roll', 'Student Name', 'Overall Average Marks', 'Category', 'Best Stream']])\n"
      ],
      "metadata": {
        "colab": {
          "base_uri": "https://localhost:8080/"
        },
        "id": "4ywkn9vGm2fw",
        "outputId": "a8ec41fe-0d90-46ee-c5ce-529da912df0a"
      },
      "execution_count": 18,
      "outputs": [
        {
          "output_type": "stream",
          "name": "stdout",
          "text": [
            "    Student Roll          Student Name  Overall Average Marks   Category  \\\n",
            "0           1001           Akash Ahuja                   70.8       Good   \n",
            "1           1002       Mohit Srivatsav                   65.8       Good   \n",
            "2           1003         Anshika Mehra                   69.8       Good   \n",
            "3           1004       Visakha Tamboli                   60.8       Good   \n",
            "4           1005         Raju Deshmukh                   76.8       Good   \n",
            "5           1006            Aruna Iyer                   67.6       Good   \n",
            "6           1007          Ramesh Gowda                   75.8       Good   \n",
            "7           1008        Anamika Kumari                   72.8       Good   \n",
            "8           1009          Piyush Pande                   81.2  Very Good   \n",
            "9           1010       Subhajeet Dutta                   74.4       Good   \n",
            "10          1011        Sonal Tripathi                   82.0  Very Good   \n",
            "11          1012         Ganesh Sekhar                   62.4       Good   \n",
            "12          1013         Praddep Meena                   76.0       Good   \n",
            "13          1014          Albert Pinto                   68.6       Good   \n",
            "14          1015           Raheem Khan                   65.6       Good   \n",
            "15          1016             Md. Yusuf                   75.0       Good   \n",
            "16          1017          Rashmi Desai                   72.4       Good   \n",
            "17          1018  Sanjana Venkatramana                   79.8       Good   \n",
            "18          1019        Gurpreet Singh                   64.6       Good   \n",
            "19          1020          Nisha Saxena                   80.0       Good   \n",
            "\n",
            "               Best Stream  \n",
            "0   Average Marks Commerce  \n",
            "1   Average Marks Commerce  \n",
            "2   Average Marks Commerce  \n",
            "3   Average Marks Commerce  \n",
            "4       Average Marks Arts  \n",
            "5    Average Marks Science  \n",
            "6   Average Marks Commerce  \n",
            "7   Average Marks Commerce  \n",
            "8   Average Marks Commerce  \n",
            "9   Average Marks Commerce  \n",
            "10  Average Marks Commerce  \n",
            "11      Average Marks Arts  \n",
            "12  Average Marks Commerce  \n",
            "13   Average Marks Science  \n",
            "14  Average Marks Commerce  \n",
            "15  Average Marks Commerce  \n",
            "16  Average Marks Commerce  \n",
            "17  Average Marks Commerce  \n",
            "18      Average Marks Arts  \n",
            "19  Average Marks Commerce  \n"
          ]
        }
      ]
    }
  ]
}