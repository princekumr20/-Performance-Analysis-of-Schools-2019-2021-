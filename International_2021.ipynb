{
  "nbformat": 4,
  "nbformat_minor": 0,
  "metadata": {
    "colab": {
      "provenance": []
    },
    "kernelspec": {
      "name": "python3",
      "display_name": "Python 3"
    },
    "language_info": {
      "name": "python"
    }
  },
  "cells": [
    {
      "cell_type": "code",
      "source": [
        "import pandas as pd\n",
        "\n",
        "# Define the function to categorize marks\n",
        "def categorize_marks(marks):\n",
        "    if marks <= 20:\n",
        "        return 'Very Poor'\n",
        "    elif 20 < marks <= 40:\n",
        "        return 'Poor'\n",
        "    elif 40 < marks <= 60:\n",
        "        return 'Average'\n",
        "    elif 60 < marks <= 80:\n",
        "        return 'Good'\n",
        "    else:\n",
        "        return 'Very Good'\n",
        "\n",
        "# Create a DataFrame with the provided student data\n",
        "data = pd.DataFrame({\n",
        "    'Student Roll': [5001, 5002, 5003, 5004, 5005, 5006, 5007, 5008, 5009, 5010, 5011, 5012, 5013, 5014, 5015, 5016, 5017, 5018, 5019, 5020],\n",
        "    'Student Name': ['Swetashi Aiyyar', 'Mira Rajput', 'Deepali Sanyal', 'Ayansh Mukherjee', 'Mihika Kalra', 'James Fernandes', 'Andrew Peter', 'Atin Choudhari', 'Kalyan Krupanidhi', 'Raga Lalitha', 'Somesh Jha', 'Jashwant Bhide', 'Suyash Chaturvedi', 'Nirmala', 'Yatindra Sharma', 'Shivalik Gonda', 'Mitushi Ghosh', 'Nayan Mahadevan', 'Rishi Damul', 'Kumar Amar'],\n",
        "    'Hindi': [61, 80, 23, 46, 59, 37, 61, 40, 56, 53, 63, 78, 86, 83, 55, 58, 37, 65, 65, 55],\n",
        "    'English': [87, 25, 49, 54, 71, 60, 22, 74, 33, 75, 36, 64, 57, 48, 76, 35, 76, 81, 45, 52],\n",
        "    'Mathematics': [90, 86, 61, 91, 68, 97, 72, 94, 62, 74, 88, 60, 94, 90, 97, 52, 63, 73, 80, 97],\n",
        "    'Physics': [60, 56, 76, 97, 53, 44, 94, 64, 58, 48, 50, 87, 57, 50, 93, 94, 61, 75, 83, 94],\n",
        "    'Chemistry': [62, 49, 85, 70, 45, 63, 52, 82, 72, 86, 87, 46, 76, 59, 73, 46, 82, 58, 64, 52],\n",
        "    'Biology': [61, 62, 63, 64, 72, 61, 65, 48, 60, 53, 89, 62, 69, 47, 48, 54, 89, 64, 61, 77],\n",
        "    'History': [42, 67, 62, 75, 71, 29, 28, 71, 66, 55, 52, 63, 37, 62, 49, 58, 79, 22, 50, 23],\n",
        "    'Geography': [28, 26, 22, 65, 21, 63, 76, 79, 77, 54, 44, 25, 30, 37, 59, 25, 72, 64, 51, 53],\n",
        "    'Civics': [79, 30, 34, 60, 51, 50, 56, 61, 39, 38, 82, 45, 20, 71, 54, 82, 31, 22, 55, 62],\n",
        "    'Computer Science': [79, 55, 89, 93, 45, 67, 60, 82, 48, 57, 92, 47, 91, 97, 51, 56, 98, 72, 97, 56],\n",
        "    'Physical Education': [79, 50, 58, 39, 86, 82, 79, 61, 61, 42, 42, 79, 48, 38, 30, 20, 36, 88, 41, 66]\n",
        "})\n",
        "\n",
        "# Define the subjects for each stream\n",
        "arts_subjects = ['Hindi', 'English', 'History', 'Geography', 'Civics']\n",
        "science_subjects = ['Mathematics', 'Physics', 'Chemistry', 'Biology', 'Computer Science']\n",
        "commerce_subjects = ['Hindi', 'English', 'Mathematics', 'Computer Science', 'Physical Education']\n",
        "\n",
        "# Calculate average marks for each student\n",
        "data['Average Marks Arts'] = data[arts_subjects].mean(axis=1)\n",
        "data['Average Marks Science'] = data[science_subjects].mean(axis=1)\n",
        "data['Average Marks Commerce'] = data[commerce_subjects].mean(axis=1)\n",
        "\n",
        "# Determine the highest average marks for each stream\n",
        "data['Best Stream'] = data[['Average Marks Arts', 'Average Marks Science', 'Average Marks Commerce']].idxmax(axis=1)\n",
        "\n",
        "# Calculate overall average marks and categorize\n",
        "data['Overall Average Marks'] = data[['Average Marks Arts', 'Average Marks Science', 'Average Marks Commerce']].max(axis=1)\n",
        "data['Category'] = data['Overall Average Marks'].apply(categorize_marks)\n",
        "\n",
        "# Display the categorized data\n",
        "print(data[['Student Roll', 'Student Name', 'Overall Average Marks', 'Category', 'Best Stream']])\n"
      ],
      "metadata": {
        "colab": {
          "base_uri": "https://localhost:8080/"
        },
        "id": "4ywkn9vGm2fw",
        "outputId": "828c5d27-7237-4ea0-8d5c-fae0be775869"
      },
      "execution_count": 14,
      "outputs": [
        {
          "output_type": "stream",
          "name": "stdout",
          "text": [
            "    Student Roll       Student Name  Overall Average Marks   Category  \\\n",
            "0           5001    Swetashi Aiyyar                   79.2       Good   \n",
            "1           5002        Mira Rajput                   61.6       Good   \n",
            "2           5003     Deepali Sanyal                   74.8       Good   \n",
            "3           5004   Ayansh Mukherjee                   83.0  Very Good   \n",
            "4           5005       Mihika Kalra                   65.8       Good   \n",
            "5           5006    James Fernandes                   68.6       Good   \n",
            "6           5007       Andrew Peter                   68.6       Good   \n",
            "7           5008     Atin Choudhari                   74.0       Good   \n",
            "8           5009  Kalyan Krupanidhi                   60.0    Average   \n",
            "9           5010       Raga Lalitha                   63.6       Good   \n",
            "10          5011         Somesh Jha                   81.2  Very Good   \n",
            "11          5012     Jashwant Bhide                   65.6       Good   \n",
            "12          5013  Suyash Chaturvedi                   77.4       Good   \n",
            "13          5014            Nirmala                   71.2       Good   \n",
            "14          5015    Yatindra Sharma                   72.4       Good   \n",
            "15          5016     Shivalik Gonda                   60.4       Good   \n",
            "16          5017      Mitushi Ghosh                   78.6       Good   \n",
            "17          5018    Nayan Mahadevan                   75.8       Good   \n",
            "18          5019        Rishi Damul                   77.0       Good   \n",
            "19          5020         Kumar Amar                   75.2       Good   \n",
            "\n",
            "               Best Stream  \n",
            "0   Average Marks Commerce  \n",
            "1    Average Marks Science  \n",
            "2    Average Marks Science  \n",
            "3    Average Marks Science  \n",
            "4   Average Marks Commerce  \n",
            "5   Average Marks Commerce  \n",
            "6    Average Marks Science  \n",
            "7    Average Marks Science  \n",
            "8    Average Marks Science  \n",
            "9    Average Marks Science  \n",
            "10   Average Marks Science  \n",
            "11  Average Marks Commerce  \n",
            "12   Average Marks Science  \n",
            "13  Average Marks Commerce  \n",
            "14   Average Marks Science  \n",
            "15   Average Marks Science  \n",
            "16   Average Marks Science  \n",
            "17  Average Marks Commerce  \n",
            "18   Average Marks Science  \n",
            "19   Average Marks Science  \n"
          ]
        }
      ]
    }
  ]
}