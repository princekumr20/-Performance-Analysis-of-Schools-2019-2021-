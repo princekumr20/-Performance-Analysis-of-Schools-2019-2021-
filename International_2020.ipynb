{
  "nbformat": 4,
  "nbformat_minor": 0,
  "metadata": {
    "colab": {
      "provenance": []
    },
    "kernelspec": {
      "name": "python3",
      "display_name": "Python 3"
    },
    "language_info": {
      "name": "python"
    }
  },
  "cells": [
    {
      "cell_type": "code",
      "source": [
        "import pandas as pd\n",
        "\n",
        "# Sample DataFrame initialization\n",
        "data = pd.DataFrame({\n",
        "    'Student Roll': [5001, 5002, 5003, 5004, 5005, 5006, 5007, 5008, 5009, 5010, 5011, 5012, 5013, 5014, 5015, 5016, 5017, 5018, 5019, 5020],\n",
        "    'Student Name': ['Swetashi Aiyyar', 'Mira Rajput', 'Deepali Sanyal', 'Ayansh Mukherjee', 'Mihika Kalra', 'James Fernandes', 'Andrew Peter', 'Atin Choudhari', 'Kalyan Krupanidhi', 'Raga Lalitha', 'Somesh Jha', 'Jashwant Bhide', 'Suyash Chaturvedi', 'Nirmala', 'Yatindra Sharma', 'Shivalik Gonda', 'Mitushi Ghosh', 'Nayan Mahadevan', 'Rishi Damul', 'Kumar Amar'],\n",
        "    'Hindi': [68, 54, 45, 55, 25, 76, 75, 78, 48, 48, 56, 31, 63, 69, 53, 63, 74, 74, 79, 29],\n",
        "    'English': [27, 42, 50, 33, 31, 52, 78, 34, 50, 37, 64, 41, 58, 68, 38, 41, 47, 49, 47, 80],\n",
        "    'Mathematics': [83, 90, 70, 70, 79, 68, 43, 73, 65, 65, 53, 88, 61, 60, 52, 91, 58, 65, 67, 58],\n",
        "    'Physics': [64, 86, 68, 59, 92, 50, 77, 54, 46, 64, 64, 92, 67, 53, 79, 89, 96, 90, 62, 64],\n",
        "    'Chemistry': [90, 81, 46, 71, 50, 76, 58, 78, 63, 87, 63, 52, 51, 73, 52, 51, 66, 59, 47, 56],\n",
        "    'Biology': [74, 43, 67, 91, 48, 66, 62, 73, 56, 64, 43, 78, 46, 88, 83, 69, 55, 85, 55, 75],\n",
        "    'History': [76, 36, 29, 66, 34, 73, 53, 25, 54, 79, 37, 63, 46, 36, 37, 80, 70, 49, 72, 77],\n",
        "    'Geography': [72, 38, 73, 63, 38, 54, 49, 30, 45, 41, 50, 33, 63, 80, 67, 54, 68, 67, 25, 56],\n",
        "    'Civics': [46, 68, 61, 48, 63, 49, 44, 45, 41, 69, 39, 32, 34, 67, 72, 53, 66, 31, 40, 59],\n",
        "    'Computer Science': [76, 62, 97, 80, 96, 97, 45, 85, 57, 59, 59, 94, 47, 57, 86, 71, 61, 63, 48, 50],\n",
        "    'Physical Education': [63, 45, 40, 40, 25, 42, 27, 72, 67, 68, 28, 56, 68, 49, 76, 32, 39, 37, 45, 41]\n",
        "})\n",
        "\n",
        "# Define the function to categorize marks\n",
        "def categorize_marks(marks):\n",
        "    if marks <= 20:\n",
        "        return 'Very Poor'\n",
        "    elif 20 < marks <= 40:\n",
        "        return 'Poor'\n",
        "    elif 40 < marks <= 60:\n",
        "        return 'Average'\n",
        "    elif 60 < marks <= 80:\n",
        "        return 'Good'\n",
        "    else:\n",
        "        return 'Very Good'\n",
        "\n",
        "# Define the subjects for each stream\n",
        "arts_subjects = ['Hindi', 'English', 'History', 'Geography', 'Civics']\n",
        "science_subjects = ['Mathematics', 'Physics', 'Chemistry', 'Biology', 'Computer Science']\n",
        "commerce_subjects = ['Hindi', 'English', 'Mathematics', 'Computer Science', 'Physical Education']\n",
        "\n",
        "# Calculate average marks for each student\n",
        "data['Average Marks Arts'] = data[arts_subjects].mean(axis=1)\n",
        "data['Average Marks Science'] = data[science_subjects].mean(axis=1)\n",
        "data['Average Marks Commerce'] = data[commerce_subjects].mean(axis=1)\n",
        "\n",
        "# Determine the highest average marks for each stream\n",
        "data['Best Stream'] = data[['Average Marks Arts', 'Average Marks Science', 'Average Marks Commerce']].idxmax(axis=1)\n",
        "\n",
        "# Calculate overall average marks (average of all three streams) and categorize\n",
        "data['Overall Average Marks'] = data[['Average Marks Arts', 'Average Marks Science', 'Average Marks Commerce']].mean(axis=1)\n",
        "data['Category'] = data['Overall Average Marks'].apply(categorize_marks)\n",
        "\n",
        "# Display the categorized data\n",
        "print(data[['Student Roll', 'Student Name', 'Overall Average Marks', 'Category', 'Best Stream']])\n"
      ],
      "metadata": {
        "colab": {
          "base_uri": "https://localhost:8080/"
        },
        "id": "4ywkn9vGm2fw",
        "outputId": "90f466f2-0520-4dc1-a1d3-e186f9efa4ee"
      },
      "execution_count": 13,
      "outputs": [
        {
          "output_type": "stream",
          "name": "stdout",
          "text": [
            "    Student Roll       Student Name  Overall Average Marks Category  \\\n",
            "0           5001    Swetashi Aiyyar              66.200000     Good   \n",
            "1           5002        Mira Rajput              59.533333  Average   \n",
            "2           5003     Deepali Sanyal              60.533333     Good   \n",
            "3           5004   Ayansh Mukherjee              60.933333     Good   \n",
            "4           5005       Mihika Kalra              54.133333  Average   \n",
            "5           5006    James Fernandes              66.400000     Good   \n",
            "6           5007       Andrew Peter              56.800000  Average   \n",
            "7           5008     Atin Choudhari              61.133333     Good   \n",
            "8           5009  Kalyan Krupanidhi              54.133333  Average   \n",
            "9           5010       Raga Lalitha              59.333333  Average   \n",
            "10          5011         Somesh Jha              52.533333  Average   \n",
            "11          5012     Jashwant Bhide              60.933333     Good   \n",
            "12          5013  Suyash Chaturvedi              55.533333  Average   \n",
            "13          5014            Nirmala              63.600000     Good   \n",
            "14          5015    Yatindra Sharma              61.600000     Good   \n",
            "15          5016     Shivalik Gonda              64.000000     Good   \n",
            "16          5017      Mitushi Ghosh              62.666667     Good   \n",
            "17          5018    Nayan Mahadevan              61.333333     Good   \n",
            "18          5019        Rishi Damul              55.200000  Average   \n",
            "19          5020         Kumar Amar              57.466667  Average   \n",
            "\n",
            "               Best Stream  \n",
            "0    Average Marks Science  \n",
            "1    Average Marks Science  \n",
            "2    Average Marks Science  \n",
            "3    Average Marks Science  \n",
            "4    Average Marks Science  \n",
            "5    Average Marks Science  \n",
            "6       Average Marks Arts  \n",
            "7    Average Marks Science  \n",
            "8    Average Marks Science  \n",
            "9    Average Marks Science  \n",
            "10   Average Marks Science  \n",
            "11   Average Marks Science  \n",
            "12  Average Marks Commerce  \n",
            "13   Average Marks Science  \n",
            "14   Average Marks Science  \n",
            "15   Average Marks Science  \n",
            "16   Average Marks Science  \n",
            "17   Average Marks Science  \n",
            "18  Average Marks Commerce  \n",
            "19   Average Marks Science  \n"
          ]
        }
      ]
    }
  ]
}