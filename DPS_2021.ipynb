{
  "nbformat": 4,
  "nbformat_minor": 0,
  "metadata": {
    "colab": {
      "provenance": []
    },
    "kernelspec": {
      "name": "python3",
      "display_name": "Python 3"
    },
    "language_info": {
      "name": "python"
    }
  },
  "cells": [
    {
      "cell_type": "code",
      "source": [
        "import pandas as pd\n",
        "\n",
        "# Sample data\n",
        "data = pd.DataFrame({\n",
        "    'Student Roll': [3001, 3002, 3003, 3004, 3005, 3006, 3007, 3008, 3009, 3010, 3011, 3012, 3013, 3014, 3015, 3016, 3017, 3018, 3019, 3020],\n",
        "    'Student Name': ['Anshu Pathak', 'Kishor Biyani', 'Munjal Shah', 'Anil Bhanupriya', 'Besent Kumar', 'Diana', 'Raghu Govind', 'Manyathi Shetty', 'Suman Bhattacharya', 'Devanshu Mishra', 'Karan Thapa', 'Farhan Ali', 'Ashwini Pushpa', 'Michel Dsuza', 'Nagashruthi', 'Chandrsekhar Kudwa', 'Niharika Popat', 'Jivan Rao', 'Muhul Ghade', 'Manshukh Bhayani'],\n",
        "    'Hindi': [45, 43, 35, 57, 32, 77, 36, 53, 87, 87, 27, 28, 25, 76, 29, 75, 52, 48, 61, 54],\n",
        "    'English': [24, 71, 44, 60, 80, 72, 54, 31, 77, 84, 36, 58, 72, 54, 47, 44, 74, 38, 42, 81],\n",
        "    'Mathematics': [47, 29, 39, 71, 45, 82, 73, 87, 65, 84, 65, 52, 53, 42, 35, 70, 63, 59, 58, 85],\n",
        "    'Physics': [56, 59, 31, 64, 73, 31, 81, 73, 31, 83, 24, 24, 56, 59, 33, 25, 80, 82, 67, 77],\n",
        "    'Chemistry': [48, 31, 76, 46, 71, 64, 40, 82, 26, 33, 88, 47, 41, 44, 66, 52, 46, 62, 57, 86],\n",
        "    'Biology': [58, 29, 73, 49, 61, 25, 31, 52, 68, 85, 28, 64, 47, 65, 42, 48, 56, 43, 51, 35],\n",
        "    'History': [54, 49, 88, 51, 65, 41, 78, 71, 83, 82, 57, 63, 47, 51, 29, 69, 45, 73, 39, 76],\n",
        "    'Geography': [45, 29, 45, 81, 28, 30, 31, 42, 67, 69, 28, 25, 88, 73, 53, 61, 43, 69, 45, 83],\n",
        "    'Civics': [57, 62, 25, 62, 78, 55, 57, 72, 27, 69, 61, 61, 88, 30, 77, 31, 68, 88, 42, 61],\n",
        "    'Computer Science': [47, 82, 25, 27, 52, 61, 57, 55, 81, 64, 28, 35, 79, 51, 50, 70, 60, 81, 29, 37],\n",
        "    'Physical Education': [32, 65, 57, 57, 55, 29, 28, 43, 76, 40, 25, 57, 67, 58, 37, 45, 73, 87, 60, 81]\n",
        "})\n",
        "\n",
        "# Define the function to categorize marks\n",
        "def categorize_marks(marks):\n",
        "    if marks <= 20:\n",
        "        return 'Very Poor'\n",
        "    elif 20 < marks <= 40:\n",
        "        return 'Poor'\n",
        "    elif 40 < marks <= 60:\n",
        "        return 'Average'\n",
        "    elif 60 < marks <= 80:\n",
        "        return 'Good'\n",
        "    else:\n",
        "        return 'Very Good'\n",
        "\n",
        "# Define the subjects for each stream\n",
        "arts_subjects = ['Hindi', 'English', 'History', 'Geography', 'Civics']\n",
        "science_subjects = ['Mathematics', 'Physics', 'Chemistry', 'Biology', 'Computer Science']\n",
        "commerce_subjects = ['Hindi', 'English', 'Mathematics', 'Computer Science', 'Physical Education']\n",
        "\n",
        "# Calculate average marks for each student\n",
        "data['Average Marks Arts'] = data[arts_subjects].mean(axis=1)\n",
        "data['Average Marks Science'] = data[science_subjects].mean(axis=1)\n",
        "data['Average Marks Commerce'] = data[commerce_subjects].mean(axis=1)\n",
        "\n",
        "# Determine the highest average marks for each stream\n",
        "data['Best Stream'] = data[['Average Marks Arts', 'Average Marks Science', 'Average Marks Commerce']].idxmax(axis=1)\n",
        "\n",
        "# Calculate overall average marks across streams\n",
        "data['Overall Average Marks'] = data[['Average Marks Arts', 'Average Marks Science', 'Average Marks Commerce']].max(axis=1)\n",
        "\n",
        "# Categorize based on overall average marks\n",
        "data['Category'] = data['Overall Average Marks'].apply(categorize_marks)\n",
        "\n",
        "# Display the categorized data\n",
        "print(data[['Student Roll', 'Student Name', 'Overall Average Marks', 'Category', 'Best Stream']])\n"
      ],
      "metadata": {
        "colab": {
          "base_uri": "https://localhost:8080/"
        },
        "id": "4ywkn9vGm2fw",
        "outputId": "da1ad227-677f-4c83-aa66-ae4b447bd004"
      },
      "execution_count": 16,
      "outputs": [
        {
          "output_type": "stream",
          "name": "stdout",
          "text": [
            "    Student Roll        Student Name  Overall Average Marks Category  \\\n",
            "0           3001        Anshu Pathak                   51.2  Average   \n",
            "1           3002       Kishor Biyani                   58.0  Average   \n",
            "2           3003         Munjal Shah                   48.8  Average   \n",
            "3           3004     Anil Bhanupriya                   62.2     Good   \n",
            "4           3005        Besent Kumar                   60.4     Good   \n",
            "5           3006               Diana                   64.2     Good   \n",
            "6           3007        Raghu Govind                   56.4  Average   \n",
            "7           3008     Manyathi Shetty                   69.8     Good   \n",
            "8           3009  Suman Bhattacharya                   77.2     Good   \n",
            "9           3010     Devanshu Mishra                   78.2     Good   \n",
            "10          3011         Karan Thapa                   46.6  Average   \n",
            "11          3012          Farhan Ali                   47.0  Average   \n",
            "12          3013      Ashwini Pushpa                   64.0     Good   \n",
            "13          3014        Michel Dsuza                   56.8  Average   \n",
            "14          3015         Nagashruthi                   47.0  Average   \n",
            "15          3016  Chandrsekhar Kudwa                   60.8     Good   \n",
            "16          3017      Niharika Popat                   64.4     Good   \n",
            "17          3018           Jivan Rao                   65.4     Good   \n",
            "18          3019         Muhul Ghade                   52.4  Average   \n",
            "19          3020    Manshukh Bhayani                   71.0     Good   \n",
            "\n",
            "               Best Stream  \n",
            "0    Average Marks Science  \n",
            "1   Average Marks Commerce  \n",
            "2    Average Marks Science  \n",
            "3       Average Marks Arts  \n",
            "4    Average Marks Science  \n",
            "5   Average Marks Commerce  \n",
            "6    Average Marks Science  \n",
            "7    Average Marks Science  \n",
            "8   Average Marks Commerce  \n",
            "9       Average Marks Arts  \n",
            "10   Average Marks Science  \n",
            "11      Average Marks Arts  \n",
            "12      Average Marks Arts  \n",
            "13      Average Marks Arts  \n",
            "14      Average Marks Arts  \n",
            "15  Average Marks Commerce  \n",
            "16  Average Marks Commerce  \n",
            "17   Average Marks Science  \n",
            "18   Average Marks Science  \n",
            "19      Average Marks Arts  \n"
          ]
        }
      ]
    }
  ]
}