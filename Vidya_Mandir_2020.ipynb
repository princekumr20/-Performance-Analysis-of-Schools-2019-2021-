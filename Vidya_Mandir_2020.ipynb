{
  "nbformat": 4,
  "nbformat_minor": 0,
  "metadata": {
    "colab": {
      "provenance": []
    },
    "kernelspec": {
      "name": "python3",
      "display_name": "Python 3"
    },
    "language_info": {
      "name": "python"
    }
  },
  "cells": [
    {
      "cell_type": "code",
      "source": [
        "import pandas as pd\n",
        "\n",
        "# Define the function to categorize marks\n",
        "def categorize_marks(marks):\n",
        "    if marks <= 20:\n",
        "        return 'Very Poor'\n",
        "    elif 20 < marks <= 40:\n",
        "        return 'Poor'\n",
        "    elif 40 < marks <= 60:\n",
        "        return 'Average'\n",
        "    elif 60 < marks <= 80:\n",
        "        return 'Good'\n",
        "    else:\n",
        "        return 'Very Good'\n",
        "\n",
        "# Create a DataFrame with the given data\n",
        "data = pd.DataFrame({\n",
        "    'Student Roll': [1001, 1002, 1003, 1004, 1005, 1006, 1007, 1008, 1009, 1010, 1011, 1012, 1013, 1014, 1015, 1016, 1017, 1018, 1019, 1020],\n",
        "    'Student Name': ['Akash Ahuja', 'Mohit Srivatsav', 'Anshika Mehra', 'Visakha Tamboli', 'Raju Deshmukh', 'Aruna Iyer', 'Ramesh Gowda', 'Anamika Kumari', 'Piyush Pande', 'Subhajeet Dutta', 'Sonal Tripathi', 'Ganesh Sekhar', 'Praddep Meena', 'Albert Pinto', 'Raheem Khan', 'Md. Yusuf', 'Rashmi Desai', 'Sanjana Venkatramana', 'Gurpreet Singh', 'Nisha Saxena'],\n",
        "    'Hindi': [39, 72, 82, 44, 83, 76, 74, 41, 89, 42, 41, 57, 87, 61, 88, 39, 80, 72, 57, 50],\n",
        "    'English': [74, 38, 52, 68, 49, 36, 41, 86, 51, 80, 74, 58, 82, 61, 63, 60, 61, 78, 49, 58],\n",
        "    'Mathematics': [87, 97, 94, 62, 44, 95, 66, 43, 71, 74, 79, 59, 86, 75, 50, 67, 97, 91, 62, 72],\n",
        "    'Physics': [92, 53, 81, 78, 62, 78, 36, 82, 15, 13, 51, 91, 21, 22, 84, 73, 83, 91, 16, 62],\n",
        "    'Chemistry': [84, 28, 88, 45, 68, 33, 67, 92, 53, 23, 82, 52, 100, 31, 82, 49, 72, 84, 39, 97],\n",
        "    'Biology': [36, 77, 100, 61, 99, 100, 60, 96, 45, 81, 24, 62, 56, 72, 42, 47, 90, 76, 88, 52],\n",
        "    'History': [47, 36, 45, 16, 70, 74, 48, 95, 73, 44, 83, 94, 76, 23, 15, 26, 78, 48, 82, 82],\n",
        "    'Geography': [82, 76, 37, 89, 61, 17, 51, 27, 88, 17, 22, 34, 81, 52, 76, 94, 39, 33, 100, 73],\n",
        "    'Civics': [44, 74, 10, 52, 65, 72, 42, 38, 41, 62, 31, 26, 31, 20, 92, 77, 26, 19, 76, 83],\n",
        "    'Computer Science': [81, 68, 36, 37, 82, 90, 75, 73, 36, 65, 71, 82, 44, 53, 81, 67, 49, 79, 52, 78],\n",
        "    'Physical Education': [78, 81, 69, 45, 39, 45, 61, 45, 82, 84, 65, 90, 56, 78, 86, 45, 51, 40, 41, 45]\n",
        "})\n",
        "\n",
        "# Define the subjects for each stream\n",
        "arts_subjects = ['Hindi', 'English', 'History', 'Geography', 'Civics']\n",
        "science_subjects = ['Mathematics', 'Physics', 'Chemistry', 'Biology', 'Computer Science']\n",
        "commerce_subjects = ['Hindi', 'English', 'Mathematics', 'Computer Science', 'Physical Education']\n",
        "\n",
        "# Calculate average marks for each student\n",
        "data['Average Marks Arts'] = data[arts_subjects].mean(axis=1)\n",
        "data['Average Marks Science'] = data[science_subjects].mean(axis=1)\n",
        "data['Average Marks Commerce'] = data[commerce_subjects].mean(axis=1)\n",
        "\n",
        "# Determine the highest average marks for each stream\n",
        "data['Best Stream'] = data[['Average Marks Arts', 'Average Marks Science', 'Average Marks Commerce']].idxmax(axis=1)\n",
        "\n",
        "# Calculate overall average marks and categorize\n",
        "data['Overall Average Marks'] = data[['Average Marks Arts', 'Average Marks Science', 'Average Marks Commerce']].max(axis=1)\n",
        "data['Category'] = data['Overall Average Marks'].apply(categorize_marks)\n",
        "\n",
        "# Display the categorized data\n",
        "print(data[['Student Roll', 'Student Name', 'Overall Average Marks', 'Category', 'Best Stream']])\n"
      ],
      "metadata": {
        "colab": {
          "base_uri": "https://localhost:8080/"
        },
        "id": "4ywkn9vGm2fw",
        "outputId": "fda1b81f-d93e-445d-9a44-8b7456af7160"
      },
      "execution_count": 9,
      "outputs": [
        {
          "output_type": "stream",
          "name": "stdout",
          "text": [
            "    Student Roll          Student Name  Overall Average Marks   Category  \\\n",
            "0           1001           Akash Ahuja                   76.0       Good   \n",
            "1           1002       Mohit Srivatsav                   71.2       Good   \n",
            "2           1003         Anshika Mehra                   79.8       Good   \n",
            "3           1004       Visakha Tamboli                   56.6    Average   \n",
            "4           1005         Raju Deshmukh                   71.0       Good   \n",
            "5           1006            Aruna Iyer                   79.2       Good   \n",
            "6           1007          Ramesh Gowda                   63.4       Good   \n",
            "7           1008        Anamika Kumari                   77.2       Good   \n",
            "8           1009          Piyush Pande                   68.4       Good   \n",
            "9           1010       Subhajeet Dutta                   69.0       Good   \n",
            "10          1011        Sonal Tripathi                   66.0       Good   \n",
            "11          1012         Ganesh Sekhar                   69.2       Good   \n",
            "12          1013         Praddep Meena                   71.4       Good   \n",
            "13          1014          Albert Pinto                   65.6       Good   \n",
            "14          1015           Raheem Khan                   73.6       Good   \n",
            "15          1016             Md. Yusuf                   60.6       Good   \n",
            "16          1017          Rashmi Desai                   78.2       Good   \n",
            "17          1018  Sanjana Venkatramana                   84.2  Very Good   \n",
            "18          1019        Gurpreet Singh                   72.8       Good   \n",
            "19          1020          Nisha Saxena                   72.2       Good   \n",
            "\n",
            "               Best Stream  \n",
            "0    Average Marks Science  \n",
            "1   Average Marks Commerce  \n",
            "2    Average Marks Science  \n",
            "3    Average Marks Science  \n",
            "4    Average Marks Science  \n",
            "5    Average Marks Science  \n",
            "6   Average Marks Commerce  \n",
            "7    Average Marks Science  \n",
            "8       Average Marks Arts  \n",
            "9   Average Marks Commerce  \n",
            "10  Average Marks Commerce  \n",
            "11   Average Marks Science  \n",
            "12      Average Marks Arts  \n",
            "13  Average Marks Commerce  \n",
            "14  Average Marks Commerce  \n",
            "15   Average Marks Science  \n",
            "16   Average Marks Science  \n",
            "17   Average Marks Science  \n",
            "18      Average Marks Arts  \n",
            "19   Average Marks Science  \n"
          ]
        }
      ]
    }
  ]
}