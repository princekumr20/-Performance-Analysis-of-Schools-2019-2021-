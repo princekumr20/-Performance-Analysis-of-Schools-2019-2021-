{
  "nbformat": 4,
  "nbformat_minor": 0,
  "metadata": {
    "colab": {
      "provenance": []
    },
    "kernelspec": {
      "name": "python3",
      "display_name": "Python 3"
    },
    "language_info": {
      "name": "python"
    }
  },
  "cells": [
    {
      "cell_type": "code",
      "source": [
        "import pandas as pd\n",
        "\n",
        "# Define the function to categorize marks\n",
        "def categorize_marks(marks):\n",
        "    if marks <= 20:\n",
        "        return 'Very Poor'\n",
        "    elif 20 < marks <= 40:\n",
        "        return 'Poor'\n",
        "    elif 40 < marks <= 60:\n",
        "        return 'Average'\n",
        "    elif 60 < marks <= 80:\n",
        "        return 'Good'\n",
        "    else:\n",
        "        return 'Very Good'\n",
        "\n",
        "# Define the subjects for each stream\n",
        "arts_subjects = ['Hindi', 'English', 'History', 'Geography', 'Civics']\n",
        "science_subjects = ['Mathematics', 'Physics', 'Chemistry', 'Biology', 'Computer Science']\n",
        "commerce_subjects = ['Hindi', 'English', 'Mathematics', 'Computer Science', 'Physical Education']\n",
        "\n",
        "# Data\n",
        "data = pd.DataFrame({\n",
        "    'Student Roll': [2001, 2002, 2003, 2004, 2005, 2006, 2007, 2008, 2009, 2010, 2011, 2012, 2013, 2014, 2015, 2016, 2017, 2018, 2019, 2020],\n",
        "    'Student Name': ['Ashok Chauhan', 'Bibhor Gupta', 'Akshay Agarwal', 'Rahul Bansal', 'Kriti Singh', 'Reshma Sultana', 'Agriya Marandi', 'Emanuel Joseph', 'Rituraj Khanna', 'Sofiya Ahmed', 'James Gabriel', 'Ekta Banerjee', 'Richa Gopanayak', 'Sukriti Verma', 'Pranav Verma', 'Arjun Godbole', 'Himanshu Joshi', 'Simi Bhansali', 'Krishna Priya', 'Deep Dasgupta'],\n",
        "    'Hindi': [39, 59, 30, 73, 52, 49, 83, 38, 59, 34, 56, 55, 71, 39, 76, 29, 47, 88, 28, 72],\n",
        "    'English': [71, 29, 69, 41, 25, 72, 75, 74, 53, 20, 48, 87, 34, 55, 47, 85, 68, 41, 89, 84],\n",
        "    'Mathematics': [42, 44, 50, 88, 56, 75, 41, 26, 85, 49, 22, 84, 29, 82, 29, 23, 55, 65, 85, 79],\n",
        "    'Physics': [70, 81, 50, 89, 77, 60, 85, 69, 87, 70, 28, 64, 60, 45, 49, 44, 44, 68, 29, 48],\n",
        "    'Chemistry': [65, 57, 50, 56, 30, 86, 68, 71, 31, 78, 70, 61, 52, 23, 50, 65, 75, 52, 61, 56],\n",
        "    'Biology': [30, 86, 38, 30, 90, 45, 81, 37, 66, 26, 46, 51, 25, 57, 61, 53, 59, 87, 67, 56],\n",
        "    'History': [42, 22, 53, 90, 48, 62, 23, 84, 65, 87, 87, 33, 39, 76, 27, 35, 69, 67, 36, 37],\n",
        "    'Geography': [33, 89, 22, 57, 65, 51, 85, 63, 68, 47, 40, 69, 89, 28, 73, 42, 74, 69, 48, 59],\n",
        "    'Civics': [70, 85, 22, 39, 28, 45, 51, 55, 20, 31, 70, 35, 87, 74, 67, 32, 48, 69, 27, 34],\n",
        "    'Computer Science': [66, 74, 45, 26, 35, 49, 57, 74, 25, 66, 23, 89, 40, 63, 88, 72, 78, 74, 43, 37],\n",
        "    'Physical Education': [22, 69, 57, 84, 56, 90, 74, 64, 67, 54, 74, 86, 26, 81, 88, 24, 42, 69, 76, 87]\n",
        "})\n",
        "\n",
        "# Calculate average marks for each student\n",
        "data['Average Marks Arts'] = data[arts_subjects].mean(axis=1)\n",
        "data['Average Marks Science'] = data[science_subjects].mean(axis=1)\n",
        "data['Average Marks Commerce'] = data[commerce_subjects].mean(axis=1)\n",
        "\n",
        "# Determine the highest average marks for each stream\n",
        "data['Best Stream'] = data[['Average Marks Arts', 'Average Marks Science', 'Average Marks Commerce']].idxmax(axis=1)\n",
        "\n",
        "# Calculate overall average marks and categorize\n",
        "data['Overall Average Marks'] = data[['Average Marks Arts', 'Average Marks Science', 'Average Marks Commerce']].max(axis=1)\n",
        "data['Category'] = data['Overall Average Marks'].apply(categorize_marks)\n",
        "\n",
        "# Display the categorized data\n",
        "print(data[['Student Roll', 'Student Name', 'Overall Average Marks', 'Category', 'Best Stream']])\n"
      ],
      "metadata": {
        "colab": {
          "base_uri": "https://localhost:8080/"
        },
        "id": "4ywkn9vGm2fw",
        "outputId": "f90839ad-0779-40cb-dd5c-21f4751a2dc5"
      },
      "execution_count": 10,
      "outputs": [
        {
          "output_type": "stream",
          "name": "stdout",
          "text": [
            "    Student Roll     Student Name  Overall Average Marks   Category  \\\n",
            "0           2001    Ashok Chauhan                   54.6    Average   \n",
            "1           2002     Bibhor Gupta                   68.4       Good   \n",
            "2           2003   Akshay Agarwal                   50.2    Average   \n",
            "3           2004     Rahul Bansal                   62.4       Good   \n",
            "4           2005      Kriti Singh                   57.6    Average   \n",
            "5           2006   Reshma Sultana                   67.0       Good   \n",
            "6           2007   Agriya Marandi                   66.4       Good   \n",
            "7           2008   Emanuel Joseph                   62.8       Good   \n",
            "8           2009   Rituraj Khanna                   58.8    Average   \n",
            "9           2010     Sofiya Ahmed                   57.8    Average   \n",
            "10          2011    James Gabriel                   60.2       Good   \n",
            "11          2012    Ekta Banerjee                   80.2  Very Good   \n",
            "12          2013  Richa Gopanayak                   64.0       Good   \n",
            "13          2014    Sukriti Verma                   64.0       Good   \n",
            "14          2015     Pranav Verma                   65.6       Good   \n",
            "15          2016    Arjun Godbole                   51.4    Average   \n",
            "16          2017   Himanshu Joshi                   62.2       Good   \n",
            "17          2018    Simi Bhansali                   69.2       Good   \n",
            "18          2019    Krishna Priya                   64.2       Good   \n",
            "19          2020    Deep Dasgupta                   71.8       Good   \n",
            "\n",
            "               Best Stream  \n",
            "0    Average Marks Science  \n",
            "1    Average Marks Science  \n",
            "2   Average Marks Commerce  \n",
            "3   Average Marks Commerce  \n",
            "4    Average Marks Science  \n",
            "5   Average Marks Commerce  \n",
            "6    Average Marks Science  \n",
            "7       Average Marks Arts  \n",
            "8    Average Marks Science  \n",
            "9    Average Marks Science  \n",
            "10      Average Marks Arts  \n",
            "11  Average Marks Commerce  \n",
            "12      Average Marks Arts  \n",
            "13  Average Marks Commerce  \n",
            "14  Average Marks Commerce  \n",
            "15   Average Marks Science  \n",
            "16   Average Marks Science  \n",
            "17   Average Marks Science  \n",
            "18  Average Marks Commerce  \n",
            "19  Average Marks Commerce  \n"
          ]
        }
      ]
    }
  ]
}