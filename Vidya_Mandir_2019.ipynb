{
  "nbformat": 4,
  "nbformat_minor": 0,
  "metadata": {
    "colab": {
      "provenance": []
    },
    "kernelspec": {
      "name": "python3",
      "display_name": "Python 3"
    },
    "language_info": {
      "name": "python"
    }
  },
  "cells": [
    {
      "cell_type": "code",
      "source": [
        "import pandas as pd\n",
        "\n",
        "# Define the function to categorize marks\n",
        "def categorize_marks(marks):\n",
        "    if marks <= 20:\n",
        "        return 'Very Poor'\n",
        "    elif 20 < marks <= 40:\n",
        "        return 'Poor'\n",
        "    elif 40 < marks <= 60:\n",
        "        return 'Average'\n",
        "    elif 60 < marks <= 80:\n",
        "        return 'Good'\n",
        "    else:\n",
        "        return 'Very Good'\n",
        "\n",
        "# Create the DataFrame\n",
        "data = pd.DataFrame({\n",
        "    'Student Roll': [1001, 1002, 1003, 1004, 1005, 1006, 1007, 1008, 1009, 1010, 1011, 1012, 1013, 1014, 1015, 1016, 1017, 1018, 1019, 1020],\n",
        "    'Student Name': ['Akash Ahuja', 'Mohit Srivatsav', 'Anshika Mehra', 'Visakha Tamboli', 'Raju Deshmukh', 'Aruna Iyer', 'Ramesh Gowda', 'Anamika Kumari', 'Piyush Pande', 'Subhajeet Dutta', 'Sonal Tripathi', 'Ganesh Sekhar', 'Praddep Meena', 'Albert Pinto', 'Raheem Khan', 'Md. Yusuf', 'Rashmi Desai', 'Sanjana Venkatramana', 'Gurpreet Singh', 'Nisha Saxena'],\n",
        "    'Hindi': [30, 32, 87, 65, 84, 90, 75, 66, 50, 23, 20, 95, 46, 91, 83, 80, 92, 37, 25, 87],\n",
        "    'English': [95, 46, 91, 83, 66, 50, 23, 20, 95, 46, 83, 80, 92, 37, 87, 65, 84, 90, 75, 66],\n",
        "    'Mathematics': [78, 65, 74, 83, 98, 56, 70, 91, 85, 65, 93, 76, 84, 58, 90, 59, 95, 82, 77, 96],\n",
        "    'Physics': [92, 53, 81, 78, 62, 78, 36, 82, 15, 13, 51, 91, 21, 22, 84, 73, 83, 91, 16, 62],\n",
        "    'Chemistry': [84, 28, 88, 45, 68, 33, 67, 92, 53, 23, 82, 52, 100, 31, 82, 49, 72, 84, 39, 97],\n",
        "    'Biology': [36, 77, 100, 61, 99, 100, 60, 96, 45, 81, 24, 62, 56, 72, 42, 47, 90, 76, 88, 52],\n",
        "    'History': [47, 36, 45, 16, 70, 74, 48, 95, 73, 44, 83, 94, 76, 23, 15, 26, 78, 48, 82, 82],\n",
        "    'Geography': [82, 76, 37, 89, 61, 17, 51, 27, 88, 17, 22, 34, 81, 52, 76, 94, 39, 33, 100, 73],\n",
        "    'Civics': [44, 74, 10, 52, 65, 72, 42, 38, 41, 62, 31, 26, 31, 20, 92, 77, 26, 19, 76, 83],\n",
        "    'Computer Science': [14, 77, 44, 23, 75, 74, 89, 83, 24, 84, 11, 83, 22, 23, 78, 56, 12, 56, 24, 11],\n",
        "    'Physical Education': [74, 27, 11, 50, 87, 34, 29, 41, 17, 66, 42, 87, 62, 90, 78, 44, 66, 95, 16, 84]\n",
        "})\n",
        "\n",
        "# Define the subjects for each stream\n",
        "arts_subjects = ['Hindi', 'English', 'History', 'Geography', 'Civics']\n",
        "science_subjects = ['Mathematics', 'Physics', 'Chemistry', 'Biology', 'Computer Science']\n",
        "commerce_subjects = ['Hindi', 'English', 'Mathematics', 'Computer Science', 'Physical Education']\n",
        "\n",
        "# Calculate average marks for each stream\n",
        "data['Average Marks Arts'] = data[arts_subjects].mean(axis=1)\n",
        "data['Average Marks Science'] = data[science_subjects].mean(axis=1)\n",
        "data['Average Marks Commerce'] = data[commerce_subjects].mean(axis=1)\n",
        "\n",
        "# Determine the highest average marks for each stream\n",
        "data['Best Stream'] = data[['Average Marks Arts', 'Average Marks Science', 'Average Marks Commerce']].idxmax(axis=1)\n",
        "\n",
        "# Calculate overall average marks and categorize\n",
        "data['Overall Average Marks'] = data[['Average Marks Arts', 'Average Marks Science', 'Average Marks Commerce']].max(axis=1)\n",
        "data['Category'] = data['Overall Average Marks'].apply(categorize_marks)\n",
        "\n",
        "# Display the categorized data\n",
        "print(data[['Student Roll', 'Student Name', 'Overall Average Marks', 'Category', 'Best Stream']])\n"
      ],
      "metadata": {
        "colab": {
          "base_uri": "https://localhost:8080/"
        },
        "id": "4ywkn9vGm2fw",
        "outputId": "650f0bca-2898-4722-dfc1-9b407fca2eb2"
      },
      "execution_count": 1,
      "outputs": [
        {
          "output_type": "stream",
          "name": "stdout",
          "text": [
            "    Student Roll          Student Name  Overall Average Marks   Category  \\\n",
            "0           1001           Akash Ahuja                   60.8       Good   \n",
            "1           1002       Mohit Srivatsav                   60.0    Average   \n",
            "2           1003         Anshika Mehra                   77.4       Good   \n",
            "3           1004       Visakha Tamboli                   61.0       Good   \n",
            "4           1005         Raju Deshmukh                   82.0  Very Good   \n",
            "5           1006            Aruna Iyer                   68.2       Good   \n",
            "6           1007          Ramesh Gowda                   64.4       Good   \n",
            "7           1008        Anamika Kumari                   88.8  Very Good   \n",
            "8           1009          Piyush Pande                   69.4       Good   \n",
            "9           1010       Subhajeet Dutta                   56.8    Average   \n",
            "10          1011        Sonal Tripathi                   52.2    Average   \n",
            "11          1012         Ganesh Sekhar                   84.2  Very Good   \n",
            "12          1013         Praddep Meena                   65.2       Good   \n",
            "13          1014          Albert Pinto                   59.8    Average   \n",
            "14          1015           Raheem Khan                   83.2  Very Good   \n",
            "15          1016             Md. Yusuf                   68.4       Good   \n",
            "16          1017          Rashmi Desai                   70.4       Good   \n",
            "17          1018  Sanjana Venkatramana                   77.8       Good   \n",
            "18          1019        Gurpreet Singh                   71.6       Good   \n",
            "19          1020          Nisha Saxena                   78.2       Good   \n",
            "\n",
            "               Best Stream  \n",
            "0    Average Marks Science  \n",
            "1    Average Marks Science  \n",
            "2    Average Marks Science  \n",
            "3       Average Marks Arts  \n",
            "4   Average Marks Commerce  \n",
            "5    Average Marks Science  \n",
            "6    Average Marks Science  \n",
            "7    Average Marks Science  \n",
            "8       Average Marks Arts  \n",
            "9   Average Marks Commerce  \n",
            "10   Average Marks Science  \n",
            "11  Average Marks Commerce  \n",
            "12      Average Marks Arts  \n",
            "13  Average Marks Commerce  \n",
            "14  Average Marks Commerce  \n",
            "15      Average Marks Arts  \n",
            "16   Average Marks Science  \n",
            "17   Average Marks Science  \n",
            "18      Average Marks Arts  \n",
            "19      Average Marks Arts  \n"
          ]
        }
      ]
    }
  ]
}