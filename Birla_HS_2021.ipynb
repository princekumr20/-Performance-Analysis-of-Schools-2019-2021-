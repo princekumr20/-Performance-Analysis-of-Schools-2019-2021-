{
  "nbformat": 4,
  "nbformat_minor": 0,
  "metadata": {
    "colab": {
      "provenance": []
    },
    "kernelspec": {
      "name": "python3",
      "display_name": "Python 3"
    },
    "language_info": {
      "name": "python"
    }
  },
  "cells": [
    {
      "cell_type": "code",
      "source": [
        "import pandas as pd\n",
        "\n",
        "# Define the function to categorize marks\n",
        "def categorize_marks(marks):\n",
        "    if marks <= 20:\n",
        "        return 'Very Poor'\n",
        "    elif 20 < marks <= 40:\n",
        "        return 'Poor'\n",
        "    elif 40 < marks <= 60:\n",
        "        return 'Average'\n",
        "    elif 60 < marks <= 80:\n",
        "        return 'Good'\n",
        "    else:\n",
        "        return 'Very Good'\n",
        "\n",
        "# Define the subjects for each stream\n",
        "arts_subjects = ['Hindi', 'English', 'History', 'Geography', 'Civics']\n",
        "science_subjects = ['Mathematics', 'Physics', 'Chemistry', 'Biology', 'Computer Science']\n",
        "commerce_subjects = ['Hindi', 'English', 'Mathematics', 'Computer Science', 'Physical Education']\n",
        "\n",
        "# Create the DataFrame with student data\n",
        "data = pd.DataFrame({\n",
        "    'Student Roll': [4001, 4002, 4003, 4004, 4005, 4006, 4007, 4008, 4009, 4010, 4011, 4012, 4013, 4014, 4015, 4016, 4017, 4018, 4019, 4020],\n",
        "    'Student Name': ['Md. Irfan', 'Swati Shankar', 'Mashuk Khan', 'Jaspreet Kaur', 'Ismail Ahmed', 'Atanu Sanyal', 'Monica Bharti', 'Bipul Bindal', 'Chanchal Panidhar', 'Hashmukh Patel', 'Ridhima Shetty', 'Anukul Seth', 'Jyoti Sridharan', 'Afsana Anjum', 'Sunaina Prabhu', 'Jemeira Sami', 'Derek Pinto', 'Sameera Gowda', 'Nitin Deewan', 'Sayantan Ghosh'],\n",
        "    'Hindi': [51, 58, 49, 91, 55, 56, 71, 70, 47, 94, 48, 47, 82, 92, 92, 66, 62, 53, 68, 68],\n",
        "    'English': [84, 58, 78, 81, 52, 71, 56, 84, 60, 51, 73, 83, 68, 59, 95, 88, 70, 93, 64, 66],\n",
        "    'Mathematics': [23, 64, 75, 62, 48, 25, 48, 79, 67, 60, 73, 37, 69, 85, 56, 77, 79, 48, 74, 34],\n",
        "    'Physics': [78, 84, 48, 18, 33, 51, 67, 63, 33, 38, 31, 30, 29, 68, 16, 85, 21, 19, 60, 33],\n",
        "    'Chemistry': [64, 19, 66, 83, 70, 64, 28, 62, 29, 38, 28, 67, 28, 50, 57, 60, 18, 83, 81, 50],\n",
        "    'Biology': [23, 63, 50, 70, 37, 75, 79, 29, 39, 35, 38, 79, 39, 69, 31, 77, 51, 56, 74, 78],\n",
        "    'History': [92, 48, 95, 65, 73, 69, 92, 89, 53, 48, 76, 79, 50, 78, 60, 63, 47, 79, 79, 83],\n",
        "    'Geography': [66, 90, 48, 92, 73, 62, 76, 73, 67, 93, 85, 59, 65, 65, 49, 54, 47, 44, 65, 84],\n",
        "    'Civics': [93, 65, 48, 59, 81, 69, 66, 79, 53, 89, 65, 80, 52, 69, 47, 93, 55, 66, 91, 85],\n",
        "    'Computer Science': [53, 30, 68, 15, 64, 38, 32, 76, 73, 31, 35, 79, 17, 37, 58, 21, 52, 59, 39, 76],\n",
        "    'Physical Education': [68, 83, 29, 82, 70, 84, 30, 41, 77, 84, 40, 55, 53, 20, 53, 68, 50, 49, 78, 63]\n",
        "})\n",
        "\n",
        "# Calculate average marks for each student\n",
        "data['Average Marks Arts'] = data[arts_subjects].mean(axis=1)\n",
        "data['Average Marks Science'] = data[science_subjects].mean(axis=1)\n",
        "data['Average Marks Commerce'] = data[commerce_subjects].mean(axis=1)\n",
        "\n",
        "# Determine the highest average marks for each stream\n",
        "data['Best Stream'] = data[['Average Marks Arts', 'Average Marks Science', 'Average Marks Commerce']].idxmax(axis=1)\n",
        "\n",
        "# Calculate overall average marks and categorize\n",
        "data['Overall Average Marks'] = data[['Average Marks Arts', 'Average Marks Science', 'Average Marks Commerce']].max(axis=1)\n",
        "data['Category'] = data['Overall Average Marks'].apply(categorize_marks)\n",
        "\n",
        "# Display the categorized data\n",
        "print(data[['Student Roll', 'Student Name', 'Overall Average Marks', 'Category', 'Best Stream']])\n"
      ],
      "metadata": {
        "colab": {
          "base_uri": "https://localhost:8080/"
        },
        "id": "4ywkn9vGm2fw",
        "outputId": "5632a76d-169e-487d-a947-875055bc4428"
      },
      "execution_count": 15,
      "outputs": [
        {
          "output_type": "stream",
          "name": "stdout",
          "text": [
            "    Student Roll       Student Name  Overall Average Marks Category  \\\n",
            "0           4001          Md. Irfan                   77.2     Good   \n",
            "1           4002      Swati Shankar                   63.8     Good   \n",
            "2           4003        Mashuk Khan                   63.6     Good   \n",
            "3           4004      Jaspreet Kaur                   77.6     Good   \n",
            "4           4005       Ismail Ahmed                   66.8     Good   \n",
            "5           4006       Atanu Sanyal                   65.4     Good   \n",
            "6           4007      Monica Bharti                   72.2     Good   \n",
            "7           4008       Bipul Bindal                   79.0     Good   \n",
            "8           4009  Chanchal Panidhar                   64.8     Good   \n",
            "9           4010     Hashmukh Patel                   75.0     Good   \n",
            "10          4011     Ridhima Shetty                   69.4     Good   \n",
            "11          4012        Anukul Seth                   69.6     Good   \n",
            "12          4013    Jyoti Sridharan                   63.4     Good   \n",
            "13          4014       Afsana Anjum                   72.6     Good   \n",
            "14          4015     Sunaina Prabhu                   70.8     Good   \n",
            "15          4016       Jemeira Sami                   72.8     Good   \n",
            "16          4017        Derek Pinto                   62.6     Good   \n",
            "17          4018      Sameera Gowda                   67.0     Good   \n",
            "18          4019       Nitin Deewan                   73.4     Good   \n",
            "19          4020     Sayantan Ghosh                   77.2     Good   \n",
            "\n",
            "               Best Stream  \n",
            "0       Average Marks Arts  \n",
            "1       Average Marks Arts  \n",
            "2       Average Marks Arts  \n",
            "3       Average Marks Arts  \n",
            "4       Average Marks Arts  \n",
            "5       Average Marks Arts  \n",
            "6       Average Marks Arts  \n",
            "7       Average Marks Arts  \n",
            "8   Average Marks Commerce  \n",
            "9       Average Marks Arts  \n",
            "10      Average Marks Arts  \n",
            "11      Average Marks Arts  \n",
            "12      Average Marks Arts  \n",
            "13      Average Marks Arts  \n",
            "14  Average Marks Commerce  \n",
            "15      Average Marks Arts  \n",
            "16  Average Marks Commerce  \n",
            "17      Average Marks Arts  \n",
            "18      Average Marks Arts  \n",
            "19      Average Marks Arts  \n"
          ]
        }
      ]
    }
  ]
}